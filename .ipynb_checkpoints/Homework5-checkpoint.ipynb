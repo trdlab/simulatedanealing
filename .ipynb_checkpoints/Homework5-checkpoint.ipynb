{
 "cells": [
  {
   "cell_type": "markdown",
   "metadata": {},
   "source": [
    "# Homework 5\n",
    "<h3>Advanced Algorithmics</h3>"
   ]
  },
  {
   "cell_type": "markdown",
   "metadata": {},
   "source": [
    "<h3>Student Info</h3>\n",
    "Başar Turgut<br>\n",
    "B79636"
   ]
  },
  {
   "cell_type": "markdown",
   "metadata": {},
   "source": [
    "## Ex 1"
   ]
  },
  {
   "cell_type": "markdown",
   "metadata": {},
   "source": [
    "<b>Question</b> : Interpret the intervals (low,high) geometrically, as a single point in 2D space (x,y). Fix one interval (5, 10) and visualize the areas for overlapping and non-overlapping intervals in the 2D plane. Motivation behind it is that when you fix these regions, you you could potentially use k-d tree for the overlapping intervals search (but this does not have to be discussed in the solution). It might help to know that there are 6 possible ways intervals can be overlapping/non-overlapping (examples are given with relation to (5,10): non-overlapping from the left (1,3), non-overlapping from the right (11, 14), overlapping from the left (2,7), overlapping from the right (8, 11), inside the interval (6,9), bounding the interval (2, 15).\n",
    "\n",
    "<b>Answer </b>:\n",
    "\n",
    "As i did, i have done a range representation to find overlapping ranges. We can define overlapping range to use at range tree. If we use ranges to check multiple nodes, we can search some intervals using kd-tree.\n",
    "\n",
    "<img src=\"q1.jpg\" width=500>"
   ]
  },
  {
   "cell_type": "markdown",
   "metadata": {},
   "source": [
    "## Ex 2"
   ]
  },
  {
   "cell_type": "markdown",
   "metadata": {},
   "source": [
    "<b>Question</b> : In the lectures we tried to establish what is the information-theoretic bound in smallest nr of bits needed to represent binary trees. Slides claimed that there are up to 22n distinct trees of n nodes, but we also showed that catalan numbers count the nr of different trees. Compare the growth rate of catalan numbers vs 22n. Plot the numbers (use logarithmic axes to fit larger values on plots). Are they in Theta() relationship (exactly the same growth rate)?\n",
    "\n",
    "<b>Answer </b>:\n",
    "\n",
    "I have implemented catalan numbers from the definition, but it was slow and memory consuming. I have used an approximation for catalan number[1]. Using this approximation, i have checked Theta() relation."
   ]
  },
  {
   "cell_type": "code",
   "execution_count": 49,
   "metadata": {},
   "outputs": [
    {
     "name": "stdout",
     "output_type": "stream",
     "text": [
      "1 1\n",
      "1 4\n",
      "2 16\n",
      "5 64\n",
      "14 256\n",
      "42 1024\n",
      "132 4096\n",
      "429 16384\n",
      "1430 65536\n",
      "4862 262144\n",
      "16796 1048576\n",
      "58786 4194304\n",
      "208012 16777216\n",
      "742900 67108864\n",
      "2674440 268435456\n",
      "9694845 1073741824\n",
      "35357670 4294967296\n"
     ]
    },
    {
     "data": {
      "image/png": "[encoded data removed]",
      "text/plain": [
       "<matplotlib.figure.Figure at 0x950c2b0>"
      ]
     },
     "metadata": {},
     "output_type": "display_data"
    }
   ],
   "source": [
    "import numpy as np\n",
    "import matplotlib.pyplot as plt\n",
    " \n",
    "if __name__ == \"__main__\":\n",
    "    # From defination of catalan numbers\n",
    "    def catalan_number(num):\n",
    "        if num <=1:\n",
    "             return 1\n",
    "        res_num = 0\n",
    "        for i in range(num):\n",
    "            res_num += catalan_number(i) * catalan_number(num-i-1)\n",
    "        return res_num\n",
    "\n",
    "    # Test Actual implementation and 2**(2*n) for calculatable values\n",
    "    # and print\n",
    "    for n in range(17):\n",
    "        print(str(catalan_number(n)) + \" \" + str(2**(2*n)))\n",
    "    \n",
    "    # Plot approximation formula for catalan number and compare with str(2**(2*n))\n",
    "    # from knuth's book referenced [2]\n",
    "    t = np.arange(1, 1000, 1)\n",
    "    s1 = 4 ** t / np.sqrt(np.pi * t**3) # Approximation from book referenced [1]\n",
    "    s2 = 2 ** (2 * t)\n",
    "    plt.loglog(t, s1)\n",
    "    plt.loglog(t, s2)\n",
    "\n",
    "    plt.show()"
   ]
  },
  {
   "cell_type": "markdown",
   "metadata": {},
   "source": [
    "As we can see from plot, 2**2n is faster than catalan approximation. For enough big n numbers, it will be close to the real formula[1]. If we pick some n values they are big enough, we can see that 2**2n is faster than catalan number using approximation results.\n",
    "\n",
    "If we use stirling approximation at catalan definition, we can have catalan approximation we have used before. This approximation is more suitable than original equation to check if we find any constant c1 and c2 to wrap our function to find tetha relation with $2^{2n}$.\n",
    "\n",
    "If we check our approximation, we can see that, our approximation has a different factor that depends on n. It contradicts with theta relation. So, we can say that they are perfectly similar but not at same speed. We can see this from plot too.\n",
    "$Theta(2^{2n}) ?= Theta(catalan) \\Rightarrow \\frac{2^{2n}}{\\sqrt{2\\pi{n^{3}}}}$ does not have theta relation with $2^{2n}$, because $\\sqrt{2\\pi{n^{3}}}$ is not a constant. So, we can not find any dependent constant c1 or c2 to apply theorem.$"
   ]
  },
  {
   "cell_type": "markdown",
   "metadata": {},
   "source": [
    "## Ex 3"
   ]
  },
  {
   "cell_type": "markdown",
   "metadata": {},
   "source": [
    "<b>Question</b> : Binomial heap of degree 4 (or any degree) has a very specific structure. If you would need an implicit structure to represent it, there is exactly one such heap (tree). Draw a binomial heap of degree 4 and number the nodes in some way (you can use post-order, pre-order or any other way that seems reasonable). Now represent the tree as an array where the array index represents the number you gave to the node before. Try to provide descriptions how to access first child, parent and next sibling as mathematical operations if possible (feel free to use combinations - e.g. choose(i,k) and sums... ) or if not then just as descriptions. These operations are needed to be able to traverse the tree and perform \"bubble up\" or \"bubble down\" operations (which you don't have to do here, but this is the motivation).\n",
    "\n",
    "<b>Answer </b>:\n",
    "\n",
    "We have drawn 4 degree binomial heap and traverse it using post order traversal. According to this traversal we have marked nodes with indexes. Those related indexes and tree drawing is being shown below.\n",
    "\n",
    "<img src=\"q3.jpg\" width=500>\n",
    "\n",
    "Let's say \"k\" is defined as the degree of tree which current node was root of and \"i\" is the index of node.\n",
    "\n",
    "For example, k for node 13 is 1. Because, node 13 is the root of tree shown below.\n",
    "\n",
    "<img src=\"q3_2.jpg\" width=300>\n",
    "\n",
    "Using this k definition, we can calculate first child, parent and next sibling.\n",
    "\n",
    "first child : $i - 2^{(k-1)}$\n",
    "\n",
    "parent : $i + 2^k$\n",
    "\n",
    "next sibling : $i + 2^{(k-1)}$"
   ]
  },
  {
   "cell_type": "markdown",
   "metadata": {},
   "source": [
    "## Ex 4"
   ]
  },
  {
   "cell_type": "markdown",
   "metadata": {},
   "source": [
    "<b>Question</b> : Insert 8, 10, 6, 9, 7, 12, 11 into an unbalanced BST. Draw the tree. Now make a succinct representation of that tree using the first succinct representation shown in the lecture (starting from slide 21). Show how the child of 12 and parent of 9 can be found using this succinct representation.\n",
    "\n",
    "<b>Answer </b>:\n",
    "\n",
    "If we insert given items in order, we will have an unbalanced BST tree like below. We have used the succinct representation that defined at slide 21. Using this representation we tested 2 operations.\n",
    "\n",
    "<img src=\"q4.jpg\" width=500>"
   ]
  },
  {
   "cell_type": "markdown",
   "metadata": {},
   "source": [
    "Left child of 12 (Only Child) : $A[2 * Bindex of 12] = A[2*6] = A[12] = 11$\n",
    "\n",
    "Parent of 9 : $B[Aindex of 9 / 2] = B[6/2] = A[3] = 10$\n"
   ]
  },
  {
   "cell_type": "markdown",
   "metadata": {},
   "source": [
    "## Ex 5"
   ]
  },
  {
   "cell_type": "markdown",
   "metadata": {},
   "source": [
    "<b>Question</b> : Create two more succinct representations of the same tree:\n",
    "\n",
    "choose one from the generalised node sequence representation: level-wise (starting from slide 36) or depth-first (starting from slide 39) representation;\n",
    "the other using the parenthesis representation (starting from slide 42).\n",
    "Argue, which one seems most natural and describe the same operations (finding child of 12 and parent of 9) on both of them.\n",
    "\n",
    "<b>Answer </b>:\n",
    "\n",
    "We have used level-wise and phrantesis representation. Tested these representations using same operation for the previous question.\n",
    "\n",
    "<img src=\"q5.jpg\" width=500>\n",
    "\n",
    "We can say that phrantesis representation looks more familiar. Because, we are using it in some of our daily routines even if we dont realize."
   ]
  },
  {
   "cell_type": "markdown",
   "metadata": {},
   "source": [
    "# References"
   ]
  },
  {
   "cell_type": "markdown",
   "metadata": {},
   "source": [
    "[1] http://www.cambridge.org/ee/academic/subjects/mathematics/discrete-mathematics-information-theory-and-coding/analytic-combinatorics?format=HB&isbn=9780521898065#UFe2kEmTkmj6mYYK.97<br>\n",
    "[2] http://www.cs.utsa.edu/~wagner/knuth/fasc4a.pdf"
   ]
  }
 ],
 "metadata": {
  "kernelspec": {
   "display_name": "Python 2",
   "language": "python",
   "name": "python2"
  },
  "language_info": {
   "codemirror_mode": {
    "name": "ipython",
    "version": 2
   },
   "file_extension": ".py",
   "mimetype": "text/x-python",
   "name": "python",
   "nbconvert_exporter": "python",
   "pygments_lexer": "ipython2",
   "version": "2.7.13"
  }
 },
 "nbformat": 4,
 "nbformat_minor": 2
}
