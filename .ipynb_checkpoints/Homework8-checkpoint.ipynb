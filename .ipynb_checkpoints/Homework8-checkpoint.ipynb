{
 "cells": [
  {
   "cell_type": "markdown",
   "metadata": {},
   "source": [
    "# Homework 7\n",
    "<h3>Advanced Algorithmics</h3>"
   ]
  },
  {
   "cell_type": "markdown",
   "metadata": {},
   "source": [
    "<h3>Student Info</h3>\n",
    "Başar Turgut<br>\n",
    "B79636"
   ]
  },
  {
   "cell_type": "markdown",
   "metadata": {},
   "source": [
    "## Ex 1"
   ]
  },
  {
   "attachments": {},
   "cell_type": "markdown",
   "metadata": {},
   "source": [
    "<b>Question</b> : Study the line graph. Use graph from lecture - below. From this graph form and visualise a corresponding line graph. Formulate the Euler and Hamilton path tasks on original graph and line graph. How do these relate to the Euler and Hamilton paths in the original graph?\n",
    "\n",
    "<img src=\"q1_euler.jpeg\" width=300 height=400/>\n",
    "\n",
    "<b>Answer </b>:\n",
    "As beginning, we have re-drawn graph with node enumeration. We gave node enumaration based correspondances of edges.\n",
    "\n",
    "<img src=\"q1_org.jpeg\" width=300 height=600/>\n",
    "\n",
    "We have checked every node and each node has even number of degree, it means we can find euler path. If we use Fleury's Algorithm[1], we can find(It is also given in the question.) euler circuit(If we remove last edge, it will be path).\n",
    "\n",
    "PS : Given letters indicate edges for original graph.\n",
    "\n",
    "Original - Euler Circle : A - B - C - D - E - F - G - H - I - J - K - (A)\n",
    "\n",
    "Original - Hamilton Cicrcle : A - B - C - I - H - K - (A)\n",
    "\n",
    "<img src=\"q1_line.jpeg\" width=300 height=600/>\n",
    "\n",
    "We have calculated line graph from original graph. It has been drawn above. We have checked every node and each node has even number of degree, it means we can find euler path. If we use Fleury's Algorithm[1], we can find euler circuit.\n",
    "\n",
    "PS : Given letters indicate nodes for line graph.\n",
    "\n",
    "Line - Euler Circle : A - D - J - C - F - I - D - B - G - K - H - F - B - E - I - C - G - J - H - E - A - K - J - I - H - G - F - E - D - C - B - (A)\n",
    "\n",
    "Line - Hamilton Circle : A - B - C - D - E - F - G - H - I - J - K - (A)\n",
    "\n",
    "We can say, euler circle(or path) of a graph is the hamilton circle(or path) of line graph of it."
   ]
  },
  {
   "cell_type": "markdown",
   "metadata": {},
   "source": [
    "## Ex 2"
   ]
  },
  {
   "cell_type": "markdown",
   "metadata": {},
   "source": [
    "<b>Question</b> : The undirected graph below is given by the graph file. Make a recursive depth-first search (DFS) through the graph starting from A. List the nodes in their discovery order like \"A F ... \", as well as the discovery and finishing times. This task could be done either on paper (not recommended, graph is pretty large) or with a script/program using attached files (recommended). Always follow edges in the alphabetic order (the same as black numbering). Label the vertices by order in which they are discovered.\n",
    "\n",
    "** Visualisation hint:** <i>above graph has been rendered using SWOG language and server http://biit.cs.ut.ee/swog with the following \"SWOG code\" that can be uploaded on that server (see at the bottom of page). That SWOG code can be modified if you want to automate the illustration of the search. E.g. to make a darker black line between nodes A and P, you can append \"connect A.r P.r\" to the end of file. As well as override the red text values as appropriate text, e.g. d[u] and f[u] times, next to each vertex.</i>  \n",
    "\n",
    "<b>Answer </b>:\n",
    "We have used DFS algorithm and example seen on lecture slides[2]. We started from node A, mark discovery time 1 and checked neighbours according to alphabetical order. F is alphabetically before than other neighbours, so we marked its visiting time with 2. We continued till we have ran out of unvisited neighbours. In this case, we set finishing time of node and come back previous node to check. Complete traverse with timings are drawn below:\n",
    "\n",
    "<img src=\"q2.png\" width=800 height=800 />\n",
    "\n",
    "As we can see from the illustration above, it is really easy to create a list of nodes in discovery order with discovery and finishing times.\n",
    "\n",
    "<li>A, Discovery/Finishing : 1/40</li>\n",
    "<li>F, Discovery/Finishing : 2/39</li>\n",
    "<li>L, Discovery/Finishing : 3/38</li>\n",
    "<li>P, Discovery/Finishing : 4/37</li>\n",
    "<li>R, Discovery/Finishing : 5/36</li>\n",
    "<li>E, Discovery/Finishing : 6/35</li>\n",
    "<li>G, Discovery/Finishing : 7/8</li>\n",
    "<li>J, Discovery/Finishing : 9/34</li>\n",
    "<li>C, Discovery/Finishing : 10/33</li>\n",
    "<li>D, Discovery/Finishing : 11/32</li>\n",
    "<li>M, Discovery/Finishing : 12/31</li>\n",
    "<li>N, Discovery/Finishing : 13/30</li>\n",
    "<li>B, Discovery/Finishing : 14/29</li>\n",
    "<li>H, Discovery/Finishing : 15/28</li>\n",
    "<li>I, Discovery/Finishing : 16/17</li>\n",
    "<li>O, Discovery/Finishing : 18/27</li>\n",
    "<li>Q, Discovery/Finishing : 19/26</li>\n",
    "<li>K, Discovery/Finishing : 20/23</li>\n",
    "<li>S, Discovery/Finishing : 21/22</li>\n",
    "<li>T, Discovery/Finishing : 24/25</li>\n"
   ]
  },
  {
   "cell_type": "markdown",
   "metadata": {},
   "source": [
    "## Ex 3"
   ]
  },
  {
   "cell_type": "markdown",
   "metadata": {},
   "source": [
    "<b>Question</b> : Same as 2, but now the Dijkstra algorithm - find the shortest path to all nodes, starting from A. The distances are Euclidean distances between vertex X,Y coordinates; also provided in graph text file.\n",
    "\n",
    "<b>Answer </b>:\n",
    "\n",
    "Distances for edges (Euclidean)(I have implemented R code to calculate)\n",
    "<li>H<->T:125</li>\n",
    "<li>H<->O:156</li>\n",
    "<li>H<->I:287</li>\n",
    "<li>H<->Q:292</li>\n",
    "<li>H<->B:299</li>\n",
    "<li>Q<->T:167</li>\n",
    "<li>Q<->L:191</li>\n",
    "<li>Q<->S:234</li>\n",
    "<li>Q<->K:266</li>\n",
    "<li>Q<->O:287</li>\n",
    "<li>B<->I:141</li>\n",
    "<li>B<->N:273</li>\n",
    "<li>E<->R:123</li>\n",
    "<li>E<->J:141</li>\n",
    "<li>E<->G:175</li>\n",
    "<li>F<->A:102</li>\n",
    "<li>F<->L:185</li>\n",
    "<li>J<->C:128</li>\n",
    "<li>D<->M:125</li>\n",
    "<li>D<->C:144</li>\n",
    "<li>P<->A:122</li>\n",
    "<li>P<->L:192</li>\n",
    "<li>P<->F:195</li>\n",
    "<li>P<->S:300</li>\n",
    "<li>P<->R:323</li>\n",
    "<li>G<->R:146</li>\n",
    "<li>L<->A:107</li>\n",
    "<li>S<->K:142</li>\n",
    "<li>S<->C:166</li>\n",
    "<li>S<->E:196</li>\n",
    "<li>N<->D:209</li>\n",
    "<li>N<->M:220</li>\n",
    "<li>N<->I:262</li>\n",
    "<li>K<->C:135</li>\n",
    "\n",
    "If we start from A and do same traverse while calculating shortest pathes of nodes to A, there will be a graph illustration like below:\n",
    "\n",
    "Operations : \n",
    "\n",
    "A = 0\n",
    "\n",
    "-------\n",
    "\n",
    "L = 107, A\n",
    "P = 122, A\n",
    "F = 102, A\n",
    "\n",
    "-------\n",
    "\n",
    "Q = 298, L\n",
    "R = 445, P\n",
    "S = 422, P\n",
    "\n",
    "-------\n",
    "\n",
    "O = 585, Q\n",
    "T = 465, Q\n",
    "H = 590, Q\n",
    "K = 564, Q or S (S)\n",
    "C = 588, S\n",
    "E = 568, R\n",
    "G = 591, R\n",
    "\n",
    "-------\n",
    "\n",
    "J = 709, E\n",
    "D = 732, C\n",
    "I = 877, H\n",
    "B = 889, H\n",
    "\n",
    "-------\n",
    "\n",
    "M = 867, D\n",
    "N = 948, D\n",
    "\n",
    "<img src=\"q3.jpeg\" width=800 height=800/>\n",
    "\n",
    "**Algorithm** : \n",
    "\n",
    "We used dijkstra's algorithm to find shortest pathes to every node from A. We intuitively used the algorithm defined below:\n",
    "\n",
    "\n",
    "<i>Create a not_visited(NVQ) and visited(VQ) vector\n",
    "\n",
    "Add all nodes to NVQ vector set initial vertex value to 0 and others to inf,\n",
    "\n",
    "While NVQ not empty:\n",
    "\n",
    "    Select min distance vertex V from NVQ\n",
    "    \n",
    "    While it has neighbours of V not visited:\n",
    "    \n",
    "        Calculate distance adding distance of edge to distance of V and compare with old value, if it is smaller apply it.\n",
    "        \n",
    "    Move V from NVQ to VQ</i>"
   ]
  },
  {
   "cell_type": "markdown",
   "metadata": {},
   "source": [
    "# References"
   ]
  },
  {
   "cell_type": "markdown",
   "metadata": {},
   "source": [
    "[1] https://www.math.ku.edu/~jmartin/courses/math105-F11/Lectures/chapter5-part2.pdf<br>\n",
    "[2] https://courses.cs.ut.ee/MTAT.03.238/2017_fall/uploads/Main/08_Algorithmics_graphs.pdf<br>"
   ]
  }
 ],
 "metadata": {
  "kernelspec": {
   "display_name": "Python 2",
   "language": "python",
   "name": "python2"
  },
  "language_info": {
   "codemirror_mode": {
    "name": "ipython",
    "version": 2
   },
   "file_extension": ".py",
   "mimetype": "text/x-python",
   "name": "python",
   "nbconvert_exporter": "python",
   "pygments_lexer": "ipython2",
   "version": "2.7.14"
  }
 },
 "nbformat": 4,
 "nbformat_minor": 2
}
