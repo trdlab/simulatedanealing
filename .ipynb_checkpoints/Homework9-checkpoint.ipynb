{
 "cells": [
  {
   "cell_type": "markdown",
   "metadata": {},
   "source": [
    "# Homework 9\n",
    "<h3>Advanced Algorithmics</h3>"
   ]
  },
  {
   "cell_type": "markdown",
   "metadata": {},
   "source": [
    "<h3>Student Info</h3>\n",
    "Başar Turgut<br>\n",
    "B79636"
   ]
  },
  {
   "cell_type": "markdown",
   "metadata": {},
   "source": [
    "## Ex 3"
   ]
  },
  {
   "cell_type": "markdown",
   "metadata": {},
   "source": [
    "<b>Question</b> : Convert it into adjacency matrix representation and then convert the matrix into the graph where the original edges are replaced by \"3-hop\" edges. Or - what is reachable in 3 steps of the original graph.\n",
    "\n"
   ]
  },
  {
   "cell_type": "markdown",
   "metadata": {},
   "source": [
    "<b>Answer </b>:\n",
    "\n",
    "We have used a helper class, found at one of stackoverflow answers. We have implemented adding 1 more link at a time function named \"hop\". This function briefly, trys to find outgoing or incoming edges for both nodes of iterated link of given matrix. I think it will not handle \"both incoming and outgoing edges\" because of lack of conditions but we will let it be like this for this exercise."
   ]
  },
  {
   "cell_type": "code",
   "execution_count": 3,
   "metadata": {},
   "outputs": [
    {
     "name": "stdout",
     "output_type": "stream",
     "text": [
      "[[ 0.  0.  0.  0.  0.  0.  0.  0.  0.  0.  0.]\n",
      " [ 1.  0.  1.  0.  0.  0.  0.  0.  0.  0.  0.]\n",
      " [ 0.  0.  0.  1.  0.  0.  0.  0.  0.  0.  0.]\n",
      " [ 0.  0.  0.  0.  0.  0.  0.  0.  0.  0.  0.]\n",
      " [ 0.  0.  1.  0.  0.  1.  1.  0.  0.  0.  1.]\n",
      " [ 1.  0.  0.  0.  0.  0.  0.  1.  0.  0.  0.]\n",
      " [ 0.  0.  1.  0.  0.  0.  0.  0.  1.  0.  0.]\n",
      " [ 0.  0.  0.  0.  1.  0.  0.  0.  0.  0.  0.]\n",
      " [ 0.  0.  0.  0.  0.  0.  0.  0.  0.  1.  0.]\n",
      " [ 0.  0.  0.  0.  0.  0.  1.  0.  0.  0.  0.]\n",
      " [ 0.  0.  0.  0.  1.  0.  0.  0.  0.  0.  0.]]\n",
      "\n",
      "[[ 0.  0.  0.  0.  0.  0.  0.  0.  0.  0.  0.]\n",
      " [ 0.  0.  0.  0.  0.  0.  0.  0.  0.  0.  0.]\n",
      " [ 0.  0.  0.  0.  0.  0.  0.  0.  0.  0.  0.]\n",
      " [ 0.  0.  0.  0.  0.  0.  0.  0.  0.  0.  0.]\n",
      " [ 0.  0.  1.  1.  1.  1.  1.  0.  0.  1.  1.]\n",
      " [ 0.  0.  1.  0.  0.  1.  1.  0.  0.  0.  1.]\n",
      " [ 0.  0.  0.  0.  0.  0.  1.  0.  0.  0.  0.]\n",
      " [ 1.  0.  1.  1.  1.  0.  0.  1.  1.  0.  0.]\n",
      " [ 0.  0.  1.  0.  0.  0.  0.  0.  1.  0.  0.]\n",
      " [ 0.  0.  0.  1.  0.  0.  0.  0.  0.  1.  0.]\n",
      " [ 1.  0.  1.  1.  1.  0.  0.  1.  1.  0.  0.]]\n"
     ]
    }
   ],
   "source": [
    "from collections import defaultdict\n",
    "import numpy as np;\n",
    "\n",
    "# Helper Class, I have found at one of stackoverflow answer\n",
    "class Graph(object):\n",
    "    \"\"\" Graph data structure, undirected by default. \"\"\"\n",
    "\n",
    "    def __init__(self, connections, directed=False):\n",
    "        self._graph = defaultdict(set)\n",
    "        self._directed = directed\n",
    "        self.add_connections(connections)\n",
    "\n",
    "    def add_connections(self, connections):\n",
    "        \"\"\" Add connections (list of tuple pairs) to graph \"\"\"\n",
    "\n",
    "        for node1, node2 in connections:\n",
    "            self.add(node1, node2)\n",
    "\n",
    "    def add(self, node1, node2):\n",
    "        \"\"\" Add connection between node1 and node2 \"\"\"\n",
    "\n",
    "        self._graph[node1].add(node2)\n",
    "        if not self._directed:\n",
    "            self._graph[node2].add(node1)\n",
    "\n",
    "    def remove(self, node):\n",
    "        \"\"\" Remove all references to node \"\"\"\n",
    "\n",
    "        for n, cxns in self._graph.iteritems():\n",
    "            try:\n",
    "                cxns.remove(node)\n",
    "            except KeyError:\n",
    "                pass\n",
    "        try:\n",
    "            del self._graph[node]\n",
    "        except KeyError:\n",
    "            pass\n",
    "\n",
    "    def is_connected(self, node1, node2):\n",
    "        \"\"\" Is node1 directly connected to node2 \"\"\"\n",
    "\n",
    "        return node1 in self._graph and node2 in self._graph[node1]\n",
    "\n",
    "    def find_path(self, node1, node2, path=[]):\n",
    "        \"\"\" Find any path between node1 and node2 (may not be shortest) \"\"\"\n",
    "\n",
    "        path = path + [node1]\n",
    "        if node1 == node2:\n",
    "            return path\n",
    "        if node1 not in self._graph:\n",
    "            return None\n",
    "        for node in self._graph[node1]:\n",
    "            if node not in path:\n",
    "                new_path = self.find_path(node, node2, path)\n",
    "                if new_path:\n",
    "                    return new_path\n",
    "        return None\n",
    "\n",
    "    def __str__(self):\n",
    "        return '{}({})'.format(self.__class__.__name__, dict(self._graph))\n",
    "    \n",
    "nodes = ['A', 'B', 'C', 'D', 'E', 'F', 'G', 'H', 'I', 'J', 'K']\n",
    "connections = [('A', 'B'), ('A', 'F'), ('C', 'B'),('C', 'E'), ('C', 'G'), ('D', 'C'), ('E', 'K'), ('E', 'H'), ('F', 'E'), ('G', 'J'), ('G', 'E'), ('H', 'F'), ('I', 'G'), ('J', 'I'), ('K', 'E')]\n",
    "g = Graph(connections, directed=True)\n",
    "\n",
    "adjancy = np.zeros((len(nodes), len(nodes)))\n",
    "\n",
    "for c in nodes:\n",
    "    for r in nodes:\n",
    "        adjancy[nodes.index(c),nodes.index(r)] = 1 if(g.is_connected(r, c)) else 0\n",
    "        \n",
    "print(adjancy)\n",
    "print(\"\")\n",
    "\n",
    "def hop(inp, matrix):\n",
    "    result = np.zeros_like(matrix)\n",
    "    for c in range(0, len(matrix)):\n",
    "        for r in range(0, len(matrix[c])):\n",
    "            if inp[c, r] == 1:\n",
    "                left_exts = [matrix[r, a] for a in range(0, len(nodes))]\n",
    "                for left_e in range(len(left_exts)):\n",
    "                    result[c, left_e] = result[c, left_e] + left_exts[left_e]\n",
    "                    result[c, left_e] = (1 if (result[c, left_e] >= 1) else 0)\n",
    "                right_exts = [matrix[a, c] for a in range(0, len(nodes))]\n",
    "                for right_e in range(len(right_exts)):\n",
    "                    result[right_e, r] = result[right_e, r] + right_exts[right_e]\n",
    "                    result[right_e, r] = (1 if(result[right_e, r] >= 1) else 0)\n",
    "    return result\n",
    "                    \n",
    "print(hop(hop(adjancy, adjancy), adjancy))\n",
    "    "
   ]
  },
  {
   "cell_type": "markdown",
   "metadata": {},
   "source": [
    "## Ex 4"
   ]
  },
  {
   "cell_type": "markdown",
   "metadata": {},
   "source": [
    "<b>Question</b> : Make a transitive closure of the same graph - using three approaches. 1) G*G*G...; 2) making use of the following property - G2 = G*G, G4 = G2*G2, G8 = G4*G4 and 3) with Warshall algorithm. Verify that you got the same answer.\n",
    "\n",
    "<b>Answer </b>:\n",
    "As we can see below. First implementation is slow but similar to warshall's result. We got exact same results. Second approach is dynamic programming approach using property. We try to use history values by checking if iterator is odd or even. Last one is warshall's algorithm. It is more space efficient and faster."
   ]
  },
  {
   "cell_type": "code",
   "execution_count": 4,
   "metadata": {},
   "outputs": [
    {
     "name": "stdout",
     "output_type": "stream",
     "text": [
      "G\n",
      "[[ 0.  0.  0.  0.  0.  0.  0.  0.  0.  0.  0.]\n",
      " [ 1.  0.  1.  0.  0.  0.  0.  0.  0.  0.  0.]\n",
      " [ 0.  0.  0.  1.  0.  0.  0.  0.  0.  0.  0.]\n",
      " [ 0.  0.  0.  0.  0.  0.  0.  0.  0.  0.  0.]\n",
      " [ 0.  0.  1.  0.  0.  1.  1.  0.  0.  0.  1.]\n",
      " [ 1.  0.  0.  0.  0.  0.  0.  1.  0.  0.  0.]\n",
      " [ 0.  0.  1.  0.  0.  0.  0.  0.  1.  0.  0.]\n",
      " [ 0.  0.  0.  0.  1.  0.  0.  0.  0.  0.  0.]\n",
      " [ 0.  0.  0.  0.  0.  0.  0.  0.  0.  1.  0.]\n",
      " [ 0.  0.  0.  0.  0.  0.  1.  0.  0.  0.  0.]\n",
      " [ 0.  0.  0.  0.  1.  0.  0.  0.  0.  0.  0.]]\n",
      "\n",
      "G * G * G\n",
      "[[ 0.  0.  0.  0.  0.  0.  0.  0.  0.  0.  0.]\n",
      " [ 1.  0.  1.  1.  0.  0.  0.  0.  0.  0.  0.]\n",
      " [ 0.  0.  0.  1.  0.  0.  0.  0.  0.  0.  0.]\n",
      " [ 0.  0.  0.  0.  0.  0.  0.  0.  0.  0.  0.]\n",
      " [ 1.  0.  1.  1.  1.  1.  1.  1.  1.  1.  1.]\n",
      " [ 1.  0.  1.  1.  1.  1.  1.  1.  1.  1.  1.]\n",
      " [ 0.  0.  1.  1.  0.  0.  1.  0.  1.  1.  0.]\n",
      " [ 1.  0.  1.  1.  1.  1.  1.  1.  1.  1.  1.]\n",
      " [ 0.  0.  1.  1.  0.  0.  1.  0.  1.  1.  0.]\n",
      " [ 0.  0.  1.  1.  0.  0.  1.  0.  1.  1.  0.]\n",
      " [ 1.  0.  1.  1.  1.  1.  1.  1.  1.  1.  1.]]\n",
      "\n",
      "G4 = G2 * G2\n",
      "[[ 0.  0.  0.  0.  0.  0.  0.  0.  0.  0.  0.]\n",
      " [ 1.  0.  1.  1.  0.  0.  0.  0.  0.  0.  0.]\n",
      " [ 0.  0.  0.  1.  0.  0.  0.  0.  0.  0.  0.]\n",
      " [ 0.  0.  0.  0.  0.  0.  0.  0.  0.  0.  0.]\n",
      " [ 1.  0.  1.  1.  1.  1.  1.  1.  1.  1.  1.]\n",
      " [ 1.  0.  1.  1.  1.  1.  1.  1.  1.  1.  1.]\n",
      " [ 0.  0.  1.  1.  0.  0.  1.  0.  1.  1.  0.]\n",
      " [ 1.  0.  1.  1.  1.  1.  1.  1.  1.  1.  1.]\n",
      " [ 0.  0.  1.  1.  0.  0.  1.  0.  1.  1.  0.]\n",
      " [ 0.  0.  1.  1.  0.  0.  1.  0.  1.  1.  0.]\n",
      " [ 1.  0.  1.  1.  1.  1.  1.  1.  1.  1.  1.]]\n",
      "\n",
      "Warshall\n",
      "[[ 0.  0.  0.  0.  0.  0.  0.  0.  0.  0.  0.]\n",
      " [ 1.  0.  1.  1.  0.  0.  0.  0.  0.  0.  0.]\n",
      " [ 0.  0.  0.  1.  0.  0.  0.  0.  0.  0.  0.]\n",
      " [ 0.  0.  0.  0.  0.  0.  0.  0.  0.  0.  0.]\n",
      " [ 1.  0.  1.  1.  1.  1.  1.  1.  1.  1.  1.]\n",
      " [ 1.  0.  1.  1.  1.  1.  1.  1.  1.  1.  1.]\n",
      " [ 0.  0.  1.  1.  0.  0.  1.  0.  1.  1.  0.]\n",
      " [ 1.  0.  1.  1.  1.  1.  1.  1.  1.  1.  1.]\n",
      " [ 0.  0.  1.  1.  0.  0.  1.  0.  1.  1.  0.]\n",
      " [ 0.  0.  1.  1.  0.  0.  1.  0.  1.  1.  0.]\n",
      " [ 1.  0.  1.  1.  1.  1.  1.  1.  1.  1.  1.]]\n"
     ]
    }
   ],
   "source": [
    "G = np.array(adjancy)\n",
    "print(\"G\")\n",
    "print(G)\n",
    "print(\"\")\n",
    "\n",
    "glo = np.copy(adjancy)\n",
    "item = G\n",
    "for i in range(100):\n",
    "    item = np.dot(item, G)\n",
    "    item = (item >= 1) * 1.0\n",
    "    glo += item\n",
    "    glo = (glo >= 1) * 1.0\n",
    "print(\"G * G * G\")\n",
    "print(glo)\n",
    "print(\"\")\n",
    "\n",
    "glo = np.copy(adjancy)\n",
    "hist = [0]*100\n",
    "hist[0] = G\n",
    "for i in range(2,100):\n",
    "    item = np.dot(hist[i/2 - 1], hist[i/2 - 1])\n",
    "    item = (item >= 1) * 1.0\n",
    "    if i%2==1:\n",
    "        item = np.dot(item, G)\n",
    "    item = (item >= 1) * 1.0\n",
    "    hist[i] = item\n",
    "    glo += item\n",
    "    glo = (glo >= 1) * 1.0\n",
    "print(\"G4 = G2 * G2\")\n",
    "print(glo)\n",
    "print(\"\")\n",
    "\n",
    "def warshall(a):\n",
    "    n = len(a)\n",
    "    for k in range(n):\n",
    "        for i in range(n):\n",
    "            for j in range(n):\n",
    "                a[i][j] = a[i][j] or (a[i][k] and a[k][j])\n",
    "    return a\n",
    "\n",
    "print(\"Warshall\")\n",
    "cl = warshall(G)\n",
    "cl = (cl >= 1) * 1\n",
    "print(cl * 1.0)"
   ]
  },
  {
   "cell_type": "markdown",
   "metadata": {},
   "source": [
    "## Ex 5"
   ]
  },
  {
   "cell_type": "markdown",
   "metadata": {},
   "source": [
    "<b>Question</b> : Implement a \"random walk\" procedure following links randomly (equal probabilities). Estimate the probability of being in any given node by varying how you deal with \"dead ends\" (B) and \"nodes with no links into it\" (D). First, try \"re-appearing anywhere\" from dead ends only. Secondly, when walking, with 20% probability jump to any random vertex in the network, and 80% of times select randomly and go to one of the neighbouring vertices. For both scenarios, provide the respective probabilities and identify most important nodes.\n",
    "\n",
    "<b>Answer </b>:\n",
    "\n",
    "First implementation is random walk handling deadends with showing up at some random places. Ofcourse we need to detect it was a dead end.\n",
    "\n",
    "Second implementation is random walk but this time we have probability based random reappearing anytime scenario. We have probability based random appearing at random times using random integer generation. If it is random enough, we should have equal probabilities for each number. In this case, number bigger than 20 has a probability of %80.\n",
    "\n",
    "Second implementation resulted with better representing probabilities of nodes. These probabilities have similarities with our node incoming edge distribution."
   ]
  },
  {
   "cell_type": "code",
   "execution_count": 14,
   "metadata": {},
   "outputs": [
    {
     "name": "stdout",
     "output_type": "stream",
     "text": [
      "[ 0.0938  0.0295  0.2295  0.2627  0.0991  0.0297  0.0974  0.0319  0.0305\n",
      "  0.0623  0.0336]\n",
      "[ 0.10345264  0.03680283  0.20538763  0.20488175  0.10952321  0.04312634\n",
      "  0.09864677  0.04072341  0.03756165  0.07309979  0.04679398]\n"
     ]
    }
   ],
   "source": [
    "import numpy as np\n",
    "import matplotlib.pyplot as plt\n",
    "import random\n",
    "def rand_walk(mat, step_count):\n",
    "    probs = [0] * len(nodes)\n",
    "    cur = random.randint(0, len(nodes)-1)\n",
    "    for j in range(0, step_count):\n",
    "        if max(mat[cur]) < 1:\n",
    "            probs[cur] += 1\n",
    "            cur = random.randint(0, len(nodes)-1)\n",
    "            continue\n",
    "        for i in range(len(nodes)-1):\n",
    "            if mat[cur][i] == 1:\n",
    "                probs[cur] += 1\n",
    "                cur = i\n",
    "                break\n",
    "    probs = np.array(probs)\n",
    "    return probs / float(np.sum(probs))\n",
    "\n",
    "print rand_walk(adjancy, 10000)\n",
    "\n",
    "def rand_walk_impr(mat, step_count):\n",
    "    probs = [0] * len(nodes)\n",
    "    cur = random.randint(0, len(nodes)-1)\n",
    "    for j in range(0, step_count):\n",
    "        num = random.randint(1, 100)\n",
    "        if (num > 20):\n",
    "            if max(mat[cur]) < 1:\n",
    "                probs[cur] += 1\n",
    "                cur = random.randint(0, len(nodes)-1)\n",
    "                continue\n",
    "            for i in range(len(nodes)-1):\n",
    "                if mat[cur][i] == 1:\n",
    "                    probs[cur] += 1\n",
    "                    cur = i\n",
    "                    break\n",
    "        else:\n",
    "            cur = random.randint(0, len(nodes)-1)\n",
    "    probs = np.array(probs)\n",
    "    return probs / float(np.sum(probs))\n",
    "\n",
    "print rand_walk_impr(adjancy, 10000)"
   ]
  },
  {
   "cell_type": "markdown",
   "metadata": {},
   "source": [
    "# References"
   ]
  },
  {
   "cell_type": "markdown",
   "metadata": {},
   "source": [
    "[1] http://www.ics.uci.edu/~irani/w15-6B/BoardNotes/MatrixMultiplication.pdf<br>"
   ]
  }
 ],
 "metadata": {
  "kernelspec": {
   "display_name": "Python 2",
   "language": "python",
   "name": "python2"
  }
 },
 "nbformat": 4,
 "nbformat_minor": 2
}
