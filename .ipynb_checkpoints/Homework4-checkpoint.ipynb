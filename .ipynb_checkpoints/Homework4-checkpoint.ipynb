{
 "cells": [
  {
   "cell_type": "markdown",
   "metadata": {},
   "source": [
    "# Homework 4\n",
    "<h3>Advanced Algorithmics</h3>"
   ]
  },
  {
   "cell_type": "markdown",
   "metadata": {},
   "source": [
    "<h3>Student Info</h3>\n",
    "Başar Turgut<br>\n",
    "B79636"
   ]
  },
  {
   "cell_type": "markdown",
   "metadata": {},
   "source": [
    "## Ex 1"
   ]
  },
  {
   "cell_type": "markdown",
   "metadata": {},
   "source": [
    "<b>Question</b> : Read Kamp (CACM 2010 53:7) \"You're doing it all wrong.\". What is the main criticism in the article? What is your opinion about the article?\n",
    "\n",
    "<b>Answer </b>:\n",
    "\n",
    "I read the whole paper twice. Because if everybody fails, i am not be smarter than the whole community. So, first of all, i should break my biases about my knowledge(Even about Knuth!). At least, Kamp says whole theoritical analyses are true but lack of other major factors like hardware technologies, OS etc. \n",
    "\n",
    "In the paper, Kamp explains us how he finds some performance improvements those break theoritical experiments because of well understanding of running environment, OS and hardware.\n",
    "\n",
    "I think main critisim is kind of super perfect environmental approaches we use. For example, we can not find an aproach to apply everything while sitting in our office(It is a metaphor for theoritical works only). In practise, we have many rule brakers and different factors those are really important on performance.\n",
    "\n",
    "I love his way of thinking. Because, I always try to explain this way of thinking to everybody near to me. I think that if only something theoretical can be applied in practice cases or lead some important discoveries about practical uses, then they become really important. Otherwise, they will be some satisfaction for their inventors and researchers. By the way, i really agree that there should be theoritical first approach, but it is another topic to discuss. "
   ]
  },
  {
   "cell_type": "markdown",
   "metadata": {},
   "source": [
    "## Ex 2 & 3"
   ]
  },
  {
   "cell_type": "markdown",
   "metadata": {},
   "source": [
    "<b>Question</b> : Pick one of the 2D datasets from http://cs.joensuu.fi/sipu/datasets/ (for example some of the txt files from datasets: S1..S4, A1..A3, R15, D31, FINLAND, JOENSUU). Build a k-d tree by selecting the split nodes a) from the data randomly and b) using a median value. After building the tree, calculate all the path lengths to all leaves and visualize their distribution using a histogram (showing how many paths there are with different lengths). Compare the results and explain the difference.\n",
    "\n",
    "<b>Answer </b>:\n",
    "\n",
    "I have used some python implementatin as base for my implementation. I have added the site to the references section. I have implemented convertion of raw data to the input form. After that, i have improved the code to split from randomly selected parts. In the sorce below, you can see the whole kd tree implementation and test procedures to see how random picking and median picking affect leaf path length distribution."
   ]
  },
  {
   "cell_type": "code",
   "execution_count": 143,
   "metadata": {},
   "outputs": [
    {
     "data": {
      "image/png": "[encoded data removed]",
      "text/plain": [
       "<matplotlib.figure.Figure at 0x113d55c0>"
      ]
     },
     "metadata": {},
     "output_type": "display_data"
    },
    {
     "data": {
      "image/png": "[encoded data removed]",
      "text/plain": [
       "<matplotlib.figure.Figure at 0x1104b7f0>"
      ]
     },
     "metadata": {},
     "output_type": "display_data"
    }
   ],
   "source": [
    "import csv\n",
    "from random import *\n",
    "import matplotlib.pyplot as plt\n",
    " \n",
    "class KdNode(object):\n",
    "    __slots__ = (\"dom_elt\", \"split\", \"left\", \"right\")\n",
    " \n",
    "    def __init__(self, dom_elt, split, left, right):\n",
    "        self.dom_elt = dom_elt\n",
    "        self.split = split\n",
    "        self.left = left\n",
    "        self.right = right\n",
    " \n",
    "class KdTree(object):\n",
    "    __slots__ = (\"n\", \"leaves\", \"isRandomlySplitted\")\n",
    " \n",
    "    def __init__(self, pts, isRandomlySplitted):\n",
    "        \n",
    "        self.leaves = []\n",
    "        self.isRandomlySplitted = isRandomlySplitted\n",
    "        def nk2(split, exset, depth):\n",
    "            depth += 1\n",
    "            if not exset:\n",
    "                return None\n",
    "            exset.sort(key=operator.itemgetter(split))\n",
    "            if (self.isRandomlySplitted):\n",
    "                m = int(random() * (len(exset) - 1))\n",
    "            else:\n",
    "                m = len(exset) // 2 # we get left one as medium\n",
    "            d = exset[m]\n",
    "            while m + 1 < len(exset) and exset[m + 1][split] == d[split]: # checks for same value medians\n",
    "                m += 1\n",
    "            s2 = (split + 1) % len(d)  # cycle coordinates\n",
    "            left = nk2(s2, exset[:m], depth)\n",
    "            right = nk2(s2, exset[m + 1:], depth)\n",
    "            if (left == None and right == None):\n",
    "                self.leaves.append([d, depth])\n",
    "            return KdNode(d, split, left,right)\n",
    "        self.n = nk2(0, pts, 0)\n",
    "\n",
    "if __name__ == \"__main__\":\n",
    "    data = list(csv.reader(open('s1_data.csv'), delimiter=','))\n",
    "    \n",
    "    data = [[int(j) for j in i] for i in data];\n",
    "    \n",
    "    cols = zip(*data);\n",
    "        \n",
    "    kd1 = KdTree(data, True)\n",
    "    plt.hist(zip(*kd1.leaves)[1], bins=range(0,100))\n",
    "    plt.show()\n",
    "    \n",
    "    kd2 = KdTree(data, False)\n",
    "    plt.hist(zip(*kd2.leaves)[1], bins=range(0,100))\n",
    "    plt.show()"
   ]
  },
  {
   "cell_type": "markdown",
   "metadata": {},
   "source": [
    "As we can see from histograms, if we use median, tree will be more balanced. We think in this way, because of distrubition of depths of leafes. Most of leaves have similar path lengths to root. It means a more balanced tree. However, as we can see, in randomly selection, we can see random distributed path lengths. Randomly splitting also have worse performance for average."
   ]
  },
  {
   "cell_type": "markdown",
   "metadata": {},
   "source": [
    "## Ex 4"
   ]
  },
  {
   "cell_type": "markdown",
   "metadata": {},
   "source": [
    "<b>Question</b> : Random projection tree. First, define the equation of the separating hyperplane between any two randomly chosen 2D points. Next, explain how would you decide whether a particular point should be in the left or right subtree from the hyperplane using the previously specified equation. Make an example of a random projection tree with up to 10 data points graphically and show how to search for a node. There is no need to calculate the exact equations in this example.\n",
    "\n",
    "<b>Answer </b>:\n",
    "\n",
    "Step by step drawn explanations are introduced below. We did not explain each step detailed but did visualize every step. There are breif explations for each step. The first splits and equation will be explained in details. "
   ]
  },
  {
   "cell_type": "markdown",
   "metadata": {},
   "source": [
    "In the beginning, we are starting to pin 10 points at spatial domain. We marked each point with numbers from 1 to 10."
   ]
  },
  {
   "cell_type": "markdown",
   "metadata": {},
   "source": [
    "<img src=\"rp_tree_stbase.jpg\" width=500>"
   ]
  },
  {
   "cell_type": "markdown",
   "metadata": {},
   "source": [
    "In step 1, we will pick our first pair of points and using the normal of line passing through this pairs, we will split points 2 sperate part. Only for this step, we will introduce every detail. "
   ]
  },
  {
   "cell_type": "markdown",
   "metadata": {},
   "source": [
    "We have picked points number 3 and number 8 as our first random pair. We should find the line that passes through this pair of points. To find this, we will calculate the slope<b>(m)</b> of this line.\n",
    "\n",
    "$m = \\frac{y_{2} - y_{1}}{x_{2} - x_{1}}$\n",
    "\n",
    "$m = \\frac{3 - 2}{5 - 2} = \\frac{1}{3}$\n",
    "\n",
    "But we should find the normal of this line from mid point of line part that lays between points number 3 and number 8. If we call this mid point \"c\", we can find c as described below.\n",
    "\n",
    "$c = (\\frac{x_{1} + x_{2}}{2}, \\frac{y_{1} + y_{2}}{2})$\n",
    "\n",
    "$c = (\\frac{5 + 2}{2}, \\frac{3 + 2}{2}) = (\\frac{7}{2}, \\frac{5}{2})$\n",
    "\n",
    "We can find the slope of normal using our know formula for slope of perpendicular line.\n",
    "$m_{p} = -\\frac{1}{m}$\n",
    "\n",
    "$\\Rightarrow m_{p} = -\\frac{1}{\\frac{1}{3}} = -3$\n",
    "\n",
    "So, we can find equetion to split points to two different groups.\n",
    "$(y - y_{0} = m_{p}(x - x_{0}))$\n",
    "\n",
    "$\\Rightarrow (y - \\frac{5}{2} = -3(x - \\frac{7}{2}))$\n",
    "$\\Rightarrow y - 2.5 = -3x + 10.5$\n",
    "$\\Rightarrow y = -3x + 13$\n",
    "\n",
    "Our first projection line to split area is defined with $y = -3x + 13$ equation. "
   ]
  },
  {
   "cell_type": "markdown",
   "metadata": {},
   "source": [
    "<img src=\"rp_tree_st1.jpg\">"
   ]
  },
  {
   "cell_type": "markdown",
   "metadata": {},
   "source": [
    "In step 2, we will take the left part of line and apply the same algorithm to it. According to the positions of points, we can describe inequalities. Points should work with inequalities written below:\n",
    "\n",
    "If point is in the left partition:\n",
    "\n",
    "(Because of slope) $mx + n - y > 0$\n",
    "$\\Rightarrow -3x_{0} + 13 - y_{0} > 0$\n",
    "\n",
    "Let's test point number 3,\n",
    "\n",
    "$-3.2 + 13 - 2 > 0$\n",
    "$\\Rightarrow -6 + 13 - 2 > 0 $\n",
    "As we can see, inequality is correct for our point.\n",
    "\n",
    "If point is in the right partition:\n",
    "\n",
    "(Because of slope) $mx + n - y < 0$\n",
    "$\\Rightarrow -3x + 13 - y < 0$\n",
    "Let's test point number 8,\n",
    "\n",
    "$-3.3 + 13 - 8 < 0$\n",
    "$\\Rightarrow -9 + 13 - 8 < 0$\n",
    "As we can see, inequality is correct for our point.\n",
    "\n",
    "So, in the same manner, we should split the left partition using the normal of line that pass through point number 3 and number 4. We draw that line below. It will seperate left partition to 2 new partition."
   ]
  },
  {
   "cell_type": "markdown",
   "metadata": {},
   "source": [
    "<img src=\"rp_tree_st2.jpg\" width=500>"
   ]
  },
  {
   "cell_type": "markdown",
   "metadata": {},
   "source": [
    "In step 3, we will take the right part this time and apply the same algorithm to it. \n",
    "\n",
    "So, in the same manner, we should split the partition using the normal of line that pass through point number 9 and number 10. We draw that line below. It will seperate partition to 2 new partitions. This line will cross the point number 8\n",
    "\n",
    "After this partition, we can go deeper levels."
   ]
  },
  {
   "cell_type": "markdown",
   "metadata": {},
   "source": [
    "<img src=\"rp_tree_st3.jpg\" width=500>"
   ]
  },
  {
   "cell_type": "markdown",
   "metadata": {},
   "source": [
    "In step 4, we will take the left upper part this time and apply the same algorithm to it. \n",
    "\n",
    "So, in the same manner, we should split the partition using the normal of line that pass through point number 3 and number 5. We draw that line below. It will seperate partition to 2 new partitions. "
   ]
  },
  {
   "cell_type": "markdown",
   "metadata": {},
   "source": [
    "<img src=\"rp_tree_st4.jpg\" width=500>"
   ]
  },
  {
   "cell_type": "markdown",
   "metadata": {},
   "source": [
    "In step 5, we will take the left lower part this time and apply the same algorithm to it. \n",
    "\n",
    "So, in the same manner, we should split the partition using the normal of line that pass through point number 4 and number 7. We draw that line below. It will seperate partition to 2 new partitions. We finished partitions of left partition for this level of depth, we can continue with the partitions of right partition. "
   ]
  },
  {
   "cell_type": "markdown",
   "metadata": {},
   "source": [
    "<img src=\"rp_tree_st5.jpg\" width=500>"
   ]
  },
  {
   "cell_type": "markdown",
   "metadata": {},
   "source": [
    "In step 6, we will take the right lower part this time and apply the same algorithm to it. \n",
    "\n",
    "So, in the same manner, we should split the partition using the normal of line that pass through point number 8 and number 10. We draw that line below. It will seperate partition to 2 new partitions. "
   ]
  },
  {
   "cell_type": "markdown",
   "metadata": {},
   "source": [
    "<img src=\"rp_tree_st6.jpg\" width=500>"
   ]
  },
  {
   "cell_type": "markdown",
   "metadata": {},
   "source": [
    "In step 7, we will take the right upper part this time and apply the same algorithm to it. \n",
    "\n",
    "So, in the same manner, we should split the partition using the normal of line that pass through point number 6 and number 9. We draw that line below. It will seperate partition to 2 new partitions. We finished partitions of right partition for this level of depth, we can continue with more one level deeper. "
   ]
  },
  {
   "cell_type": "markdown",
   "metadata": {},
   "source": [
    "<img src=\"rp_tree_st7.jpg\" width=500>"
   ]
  },
  {
   "cell_type": "markdown",
   "metadata": {},
   "source": [
    "In step 8, we will take the left upper right part this time and apply the same algorithm to it. \n",
    "\n",
    "So, in the same manner, we should split the partition using the normal of line that pass through point number 1 and number 5. We draw that line below. It will seperate partition to 2 new partitions. "
   ]
  },
  {
   "cell_type": "markdown",
   "metadata": {},
   "source": [
    "<img src=\"rp_tree_st8.jpg\" width=500>"
   ]
  },
  {
   "cell_type": "markdown",
   "metadata": {},
   "source": [
    "In step 9, we will take the left upper left part this time and apply the same algorithm to it. \n",
    "\n",
    "So, in the same manner, we should split the partition using the normal of line that pass through point number 2 and number 3. We draw that line below. It will seperate partition to 2 new partitions. After this partition, we have reached to the one node per partition."
   ]
  },
  {
   "cell_type": "markdown",
   "metadata": {},
   "source": [
    "<img src=\"rp_tree_st9.jpg\" width=500>"
   ]
  },
  {
   "cell_type": "markdown",
   "metadata": {},
   "source": [
    "We will explain how we can use this tree to search a node in an example. \n",
    "\n",
    "Let's say that we are searching node number 4.\n",
    "\n",
    "We should check it for the first(root).\n",
    "\n",
    "As we can see, this node should be at the left side of this line according to the inequality.\n",
    "\n",
    "Secondly, we should check node number 4 with the line X, it will be bottom side of this line.\n",
    "\n",
    "In last step, we will check node number 4 with the line y, it should be left side of this line. Here node number 4, we found it."
   ]
  },
  {
   "cell_type": "markdown",
   "metadata": {},
   "source": [
    "## Ex 5"
   ]
  },
  {
   "cell_type": "markdown",
   "metadata": {},
   "source": [
    "<b>Question</b> : When building a k-d tree one may stop splitting nodes when their size is less or equal to some number of points (e.g. 5 points). Search for the nearest neighbour to the given query point is then performed among the points in the corresponding leaf node of the k-d tree. This approach is called approximate nearest-neighbour search (ANNS). Explain why approximate nearest neighbour is not guaranteed to find the true nearest-neighbour and how would you change the algorithm so that it would find either true nearest-neighbour or its better approximation.\n",
    "\n",
    "<b>Answer </b>:\n",
    "\n"
   ]
  },
  {
   "cell_type": "markdown",
   "metadata": {},
   "source": [
    "When building k-d tree if we stop with buckets filled nodes (max sized), we can't compare sharply(ANNS). So, if we only use query point to decide on tree, we will end with only one bucket and maybe our nearest or at least nearer neighbours can be in another branch. \n",
    "\n",
    "So, to fix this issue, we can search tree using a range with <b>r radius circle</b>. In this case, we can check every branch that overlaps with our range. We tried to show an example with illustrations to explain well below.\n"
   ]
  },
  {
   "cell_type": "markdown",
   "metadata": {},
   "source": [
    "<img src=\"kd_1.jpg\" width=500>"
   ]
  },
  {
   "cell_type": "markdown",
   "metadata": {},
   "source": [
    "In our example, we defined 5 as allowed max size for a bucket. As we can see, there is only 2 splits (to keep example simle). If we compare our tree using query point 7, it will lead us to only one bucket as illustrated below. After comparing the whole bucket our result will be 11 as the nearest neighbour. But it is not correct, 5 is closer to the point 7 than point 11."
   ]
  },
  {
   "cell_type": "markdown",
   "metadata": {},
   "source": [
    "<img src=\"kd_2.jpg\" width=500>"
   ]
  },
  {
   "cell_type": "markdown",
   "metadata": {},
   "source": [
    "We can define a circle with radius r and center as the query point. If we search this area on tree, it will cover more bucket and will improve results. However, we should remember that r is a trade off. If we keep it smaller our accuricy will be decreased but performance will be improved."
   ]
  },
  {
   "cell_type": "markdown",
   "metadata": {},
   "source": [
    "<img src=\"kd_3.jpg\" width=500>"
   ]
  },
  {
   "cell_type": "markdown",
   "metadata": {},
   "source": [
    "## Ex 6"
   ]
  },
  {
   "cell_type": "markdown",
   "metadata": {},
   "source": [
    "<b>Question</b> : Use a dataset from EX2 & EX3. Build a k-d tree again, but now stop splitting nodes when their size is less or equal to 5 points. Generate a random query point (choose its coordinates such that they are within boundaries of the dataset). Search for its nearest-neighbour and the distance to it among the points in the corresponding leaf node. Compare this distance to the distance to the actual nearest-neighbour in the whole dataset. Repeat this procedure at least 100 times and draw the distribution of the differences. Interpret the results. (This part gives 1 point.) Make a change in the initial ANNS algorithm to search for a better approximation of the true nearest-neighbour, visualise the distances and comment on results. (This part gives the other 1 point.)\n",
    "\n",
    "<b>Answer </b>:\n",
    "\n",
    "For the first part of question, we will re-use our k-d tree implementation with some major changes. We should return if the size of sub tree is less or equal to 5 points. After we should implement nearest neighbour search and aproximate nearest neighbour search for both implementations. \n",
    "\n",
    "After implementing required tools, we should create a test environment to check results for both implementations. Show and discuss distributions.\n"
   ]
  },
  {
   "cell_type": "code",
   "execution_count": 144,
   "metadata": {},
   "outputs": [
    {
     "data": {
      "image/png": "[encoded data removed]",
      "text/plain": [
       "<matplotlib.figure.Figure at 0x8bea470>"
      ]
     },
     "metadata": {},
     "output_type": "display_data"
    }
   ],
   "source": [
    "import csv\n",
    "from random import *\n",
    "import matplotlib.pyplot as plt\n",
    " \n",
    "class KdNode(object):\n",
    "    __slots__ = (\"dom_elt\", \"split\", \"left\", \"right\")\n",
    " \n",
    "    def __init__(self, dom_elt, split, left, right):\n",
    "        self.dom_elt = dom_elt\n",
    "        self.split = split\n",
    "        self.left = left\n",
    "        self.right = right\n",
    " \n",
    "class KdTree(object):\n",
    "    __slots__ = (\"n\", \"leaves\")\n",
    " \n",
    "    def __init__(self, pts):\n",
    "        \n",
    "        self.leaves = []\n",
    "        def nk2(split, exset):\n",
    "            if not exset:\n",
    "                return None\n",
    "            exset.sort(key=operator.itemgetter(split))\n",
    "            m = len(exset) // 2 # we get left one as medium\n",
    "            d = exset[m]\n",
    "            while m + 1 < len(exset) and exset[m + 1][split] == d[split]: # checks for same value medians\n",
    "                m += 1\n",
    "            s2 = (split + 1) % len(d)  # cycle coordinates\n",
    "            left = nk2(s2, exset[:m])\n",
    "            right = nk2(s2, exset[m + 1:])\n",
    "            return KdNode(d, split, left,right)\n",
    "        self.n = nk2(0, pts)\n",
    "        \n",
    "    def find_nn(self, target):\n",
    "        def nn(tree):\n",
    "            \n",
    "            s = tree.split\n",
    "            pivot = tree.dom_elt\n",
    "            leftPartition = tree.left\n",
    "            rightPartition = tree.right\n",
    "            \n",
    "            if target[s] <= pivot[s]:\n",
    "                # Check only left or bottom partition\n",
    "                if (not leftPartition):\n",
    "                    # calculate dist\n",
    "                    d = 0\n",
    "                    for i in range(0, len(pivot)):\n",
    "                        d += (target[i] - pivot[i])**2\n",
    "                    d = math.sqrt(d)\n",
    "                    return [pivot,d]\n",
    "                return nn(leftPartition)\n",
    "            else:\n",
    "                # Check only right or up partition\n",
    "                if (not rightPartition):\n",
    "                    # calculate dist\n",
    "                    d = 0\n",
    "                    for i in range(0, len(pivot)):\n",
    "                        d += (target[i] - pivot[i])**2\n",
    "                    d = math.sqrt(d)\n",
    "                    return [pivot,d]\n",
    "                return nn(rightPartition)\n",
    " \n",
    "        return nn(self.n)\n",
    "        \n",
    "class KdTreeBucketImpl(object):\n",
    "    __slots__ = (\"n\", \"leaves\", \"min_dist\")\n",
    " \n",
    "    def __init__(self, pts):\n",
    "        \n",
    "        self.leaves = []\n",
    "        def nk2(split, exset):\n",
    "            if len(exset) <= 5:\n",
    "                return exset\n",
    "            exset.sort(key=operator.itemgetter(split))\n",
    "            m = len(exset) // 2 # we get left one as medium\n",
    "            d = exset[m]\n",
    "            while m + 1 < len(exset) and exset[m + 1][split] == d[split]: # checks for same value medians\n",
    "                m += 1\n",
    "            s2 = (split + 1) % len(d)  # cycle coordinates\n",
    "            left = nk2(s2, exset[:m])\n",
    "            right = nk2(s2, exset[m + 1:])\n",
    "            return KdNode(d, split, left,right)\n",
    "        self.n = nk2(0, pts)\n",
    "\n",
    "    def find_nn(self, target):\n",
    "        self.min_dist = float(\"inf\")\n",
    "        def nn(tree):\n",
    "            if isinstance(tree, list):\n",
    "                # Search every member of bucket\n",
    "                for point in tree:\n",
    "                    # calculate dist\n",
    "                    d = 0\n",
    "                    for i in range(0, len(point)):\n",
    "                        d += (target[i] - point[i])**2\n",
    "                    d = math.sqrt(d)\n",
    "                    # print \"Testing :: \" + str(point) + \", dist :: \" + str(d)\n",
    "                    if (d < self.min_dist):\n",
    "                        self.min_dist = d\n",
    "                        nn_element = point\n",
    "                return [nn_element,self.min_dist]\n",
    "            \n",
    "            s = tree.split\n",
    "            pivot = tree.dom_elt\n",
    "            leftPartition = tree.left\n",
    "            rightPartition = tree.right\n",
    "            \n",
    "            if target[s] <= pivot[s]:\n",
    "                # Check only left or bottom partition\n",
    "                return nn(leftPartition)\n",
    "            else:\n",
    "                # Check only right or up partition\n",
    "                return nn(rightPartition)\n",
    " \n",
    "        return nn(self.n)\n",
    "\n",
    "data = list(csv.reader(open('s1_data.csv'), delimiter=','))\n",
    "\n",
    "data = [[int(j) for j in i] for i in data];\n",
    "\n",
    "cols = zip(*data);\n",
    "kd1 = KdTreeBucketImpl(data)\n",
    "kd2 = KdTree(data)\n",
    "perf_hist = []\n",
    "for i in range(1,1000):\n",
    "    r = [randint(min(cols[0]),max(cols[0])), randint(min(cols[1]),max(cols[1]))]\n",
    "    perf_hist.append(abs(kd1.find_nn(target=r)[1] - kd2.find_nn(target=r)[1]))\n",
    "plt.plot(range(len(perf_hist)), perf_hist)\n",
    "plt.show()"
   ]
  },
  {
   "cell_type": "markdown",
   "metadata": {},
   "source": [
    "We can easily say that most of the time our approximation was wrong and in some of experiments it has huge differences between actual values. We can improve this using the technique we proposed previous question. We can define a parameter r as radius and make searches in 2r range for each dimension, for our example it is 2."
   ]
  },
  {
   "cell_type": "code",
   "execution_count": 145,
   "metadata": {},
   "outputs": [
    {
     "data": {
      "image/png": "[encoded data removed]",
      "text/plain": [
       "<matplotlib.figure.Figure at 0x528f828>"
      ]
     },
     "metadata": {},
     "output_type": "display_data"
    }
   ],
   "source": [
    "class KdTreeBucketImplImproved(object):\n",
    "    __slots__ = (\"n\", \"leaves\", \"min_dist\", \"rad\", \"nn_element\")\n",
    " \n",
    "    def __init__(self, pts):\n",
    "        self.rad = 1000000000000000;\n",
    "        self.leaves = []\n",
    "        def nk2(split, exset):\n",
    "            if len(exset) <= 5:\n",
    "                return exset\n",
    "            exset.sort(key=operator.itemgetter(split))\n",
    "            m = len(exset) // 2 # we get left one as medium\n",
    "            d = exset[m]\n",
    "            while m + 1 < len(exset) and exset[m + 1][split] == d[split]: # checks for same value medians\n",
    "                m += 1\n",
    "            s2 = (split + 1) % len(d)  # cycle coordinates\n",
    "            left = nk2(s2, exset[:m])\n",
    "            right = nk2(s2, exset[m + 1:])\n",
    "            return KdNode(d, split, left,right)\n",
    "        self.n = nk2(0, pts)\n",
    "\n",
    "    def find_nn(self, target):\n",
    "        self.min_dist = float(\"inf\")\n",
    "        def nn(tree):\n",
    "            if isinstance(tree, list):\n",
    "                # Search every member of bucket\n",
    "                for point in tree:\n",
    "                    # calculate dist\n",
    "                    d = 0\n",
    "                    for i in range(0, len(point)):\n",
    "                        d += (target[i] - point[i])**2\n",
    "                    d = math.sqrt(d)\n",
    "                    #print \"Testing :: \" + str(point) + \", dist :: \" + str(d)\n",
    "                    if (d < self.min_dist):\n",
    "                        self.min_dist = d\n",
    "                        self.nn_element = point\n",
    "            else:\n",
    "                s = tree.split\n",
    "                pivot = tree.dom_elt\n",
    "                leftPartition = tree.left\n",
    "                rightPartition = tree.right\n",
    "\n",
    "                if target[s] + self.rad <= pivot[s]:\n",
    "                    # Check only left or bottom partition\n",
    "                    nn(leftPartition)\n",
    "                elif target[s] - self.rad > pivot[s]:\n",
    "                    nn(rightPartition)\n",
    "                else:\n",
    "                    nn(leftPartition)\n",
    "                    nn(rightPartition)\n",
    "        nn(self.n)\n",
    "        \n",
    "        return [self.nn_element, self.min_dist]\n",
    "\n",
    "kda = KdTreeBucketImplImproved(data)\n",
    "kdb = KdTreeBucketImpl(data)\n",
    "perf_hist = []\n",
    "for i in range(1,100):\n",
    "    r = [randint(min(cols[0]),max(cols[0])), randint(min(cols[1]),max(cols[1]))]\n",
    "    perf_hist.append(kda.find_nn(target=r)[1] - kdb.find_nn(target=r)[1])\n",
    "\n",
    "plt.plot(range(len(perf_hist)), perf_hist)\n",
    "plt.show()"
   ]
  },
  {
   "cell_type": "markdown",
   "metadata": {},
   "source": [
    "As we can see, using this approach improved results with nearer neighbours. Still there is some problems with code, even if we use huge \"r\" values it find different results from our first kd tree implementation. It will be discussed with TA."
   ]
  },
  {
   "cell_type": "markdown",
   "metadata": {},
   "source": [
    "# References"
   ]
  },
  {
   "cell_type": "markdown",
   "metadata": {},
   "source": [
    "https://rosettacode.org/wiki/K-d_tree#Python<br>"
   ]
  }
 ],
 "metadata": {
  "kernelspec": {
   "display_name": "Python 2",
   "language": "python",
   "name": "python2"
  },
  "language_info": {
   "codemirror_mode": {
    "name": "ipython",
    "version": 2
   },
   "file_extension": ".py",
   "mimetype": "text/x-python",
   "name": "python",
   "nbconvert_exporter": "python",
   "pygments_lexer": "ipython2",
   "version": "2.7.13"
  }
 },
 "nbformat": 4,
 "nbformat_minor": 2
}
