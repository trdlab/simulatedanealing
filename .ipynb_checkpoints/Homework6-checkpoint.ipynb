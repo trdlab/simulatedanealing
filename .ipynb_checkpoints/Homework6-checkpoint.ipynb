{
 "cells": [
  {
   "cell_type": "markdown",
   "metadata": {},
   "source": [
    "# Homework 6\n",
    "<h3>Advanced Algorithmics</h3>"
   ]
  },
  {
   "cell_type": "markdown",
   "metadata": {},
   "source": [
    "<h3>Student Info</h3>\n",
    "Başar Turgut<br>\n",
    "B79636"
   ]
  },
  {
   "cell_type": "markdown",
   "metadata": {},
   "source": [
    "## Ex 1"
   ]
  },
  {
   "cell_type": "markdown",
   "metadata": {},
   "source": [
    "<b>Question</b> : Use the integers as in here. Experiment with the universal hashing scheme as presented in the lecture. Assess the goodness of the universal scheme - hash the given intergers to hash tables of sizes 1000, 10 000, 100 000 and 1 000 000 slots. For each hash table size experiment with the p, a, and b selected randomly. Report (ideally visualize) the number of collisions in total for different table sizes (over many trials with random p, a and b).\n",
    "\n",
    "<b>Answer </b>:\n",
    "\n",
    "If we use the simple universal hashing presented in the lecture we need to simply recall it.\n",
    "\n",
    "$H_{p,m} = \\{ h_{a,b} \\, | \\, 1 \\leq a < p, 0 \\leq b < p \\}$\n",
    "\n",
    "$h_{a,b}(k) = ((ak + b) mod p) mod m$\n",
    "\n",
    "So, we should test our scheme for m values {1000, 10000, 100000, 1000000} with randomly selected p, a and b values.\n"
   ]
  },
  {
   "cell_type": "code",
   "execution_count": 44,
   "metadata": {},
   "outputs": [
    {
     "name": "stdout",
     "output_type": "stream",
     "text": [
      "[990, 377, 89, 55, 1] [[1071229, 428670, 955213, 10], [7504801, 898366, 4266313, 1000], [2379708, 1330598, 121994, 10000], [1727130, 1196370, 781945, 100000], [8710013, 5767888, 279698, 1000000]]\n"
     ]
    },
    {
     "data": {
      "image/png": "[encoded data removed]",
      "text/plain": [
       "<matplotlib.figure.Figure at 0x1639a828>"
      ]
     },
     "metadata": {},
     "output_type": "display_data"
    }
   ],
   "source": [
    "import random\n",
    "import matplotlib.pyplot as plt\n",
    "import numpy as np\n",
    "\n",
    "prime_cache = [7504801, 8042447, 9902740, 7796628, 4326955, 1071229, 8559814, 2379708, 8710013, 2345678, 7957923, 1727130]\n",
    "\n",
    "numbers = []\n",
    "with open('numbers.txt') as f:\n",
    "    for line in f:\n",
    "        numbers.append(int(line))\n",
    "        \n",
    "def h(a, b, p, m, k):\n",
    "    return ((a*k + b)%p)%m\n",
    "\n",
    "cols = [0,0, 0, 0, 0]\n",
    "params = []\n",
    "i = 0\n",
    "m_vals = [10, 1000, 10000, 100000, 1000000]\n",
    "for m in m_vals:\n",
    "    # Find a, b and p randomly\n",
    "    p = random.choice([j for j in prime_cache if m < j])\n",
    "    a = random.randint(1,p)\n",
    "    b = random.randint(0,p)\n",
    "    params.append([p, a, b, m])\n",
    "    bins = [0] * m\n",
    "    for k in numbers:\n",
    "        slot = h(a, b, p, m, k)\n",
    "        if bins[slot] != 0:\n",
    "            cols[i] += 1\n",
    "        else:\n",
    "            # I did not keep k values as array because\n",
    "            # we do not care about values, we care if slot is filled before or not\n",
    "            bins[slot] = k\n",
    "    i += 1\n",
    "print cols, params\n",
    "\n",
    "y_pos = np.arange(len(m_vals))\n",
    " \n",
    "plt.bar(y_pos, cols, align='center', alpha=0.5)\n",
    "plt.xticks(y_pos, m_vals)\n",
    "plt.ylabel('Collition')\n",
    "plt.title('Collition Numbers Depending on Hash Table Size')\n",
    " \n",
    "plt.show()"
   ]
  },
  {
   "cell_type": "markdown",
   "metadata": {},
   "source": [
    "As we can see, with different hash functions for random a, b and p values, there are no difference. Hovewer, when we change m value, it changes number of collitions occured. If we use bigger numbers for m value, it will widen our bins for the hashing function. In this case collitions should occur less. We can explain it using pigionhole priciple. If we had less slots for pigions, some of our pigions should share same slots. As we pick our values randomly, number of collitions changes for every experiment but we can still see the effects of m values."
   ]
  },
  {
   "cell_type": "markdown",
   "metadata": {},
   "source": [
    "## Ex 2"
   ]
  },
  {
   "cell_type": "markdown",
   "metadata": {},
   "source": [
    "<b>Question</b> : Hash functions are usually represented as integer -> integer mappings. Yet, keys in dictionaries are usually words, ID-s etc. The purpose of this task is to try map every English word (e.g. https://raw.githubusercontent.com/dwyl/english-words/master/words.txt) into an integer (before even applying the hash functions). Since there are many more potential words than integers of length 32 bit or 64 bit, one may ask - how many collisions one would generate simply by conversion of words into integers. Try out some simple and stupid ideas - like simply adding all character values ord(c) together and count nr of collisions. Then try to find and implement a better mapping - and report how many collisions there will still be when applied to above very long list of English words. You can measure two things: total nr of colliding integers; and the \"most occupied\" integer value - for both, the 32 and 64 bit integers.\n",
    "\n",
    "Hint: Feel free to use some built-in hash or associative array implementation supported by your programming language.\n",
    "\n",
    "<b>Answer </b>:\n",
    "\n",
    "I have implemented the naive way as you mentioned at the question by summing ascii values of string to map our string to integer value before hashing. I have also used built-in hash function of python to map our strings to integers before hashing."
   ]
  },
  {
   "cell_type": "code",
   "execution_count": 6,
   "metadata": {},
   "outputs": [
    {
     "name": "stdout",
     "output_type": "stream",
     "text": [
      "[[465544, 465544], [464214, 456544], [464214, 367501], [464214, 166966]] [[7957923, 3438216, 1744955, 1000], [8710013, 1429736, 8302934, 10000], [1071229, 906244, 1045798, 100000], [2345678, 1849578, 2306718, 1000000]]\n"
     ]
    },
    {
     "data": {
      "image/png": "[encoded data removed]",
      "text/plain": [
       "<matplotlib.figure.Figure at 0x516bc50>"
      ]
     },
     "metadata": {},
     "output_type": "display_data"
    },
    {
     "data": {
      "image/png": "[encoded data removed]",
      "text/plain": [
       "<matplotlib.figure.Figure at 0xa036828>"
      ]
     },
     "metadata": {},
     "output_type": "display_data"
    }
   ],
   "source": [
    "import random\n",
    "import matplotlib.pyplot as plt\n",
    "import numpy as np\n",
    "prime_cache = [7504801, 8042447, 9902740, 7796628, 4326955, 1071229, 8559814, 2379708, 8710013, 2345678, 7957923, 1727130]\n",
    "\n",
    "def hash2(s):\n",
    "    summ = 0\n",
    "    for c in s:\n",
    "        summ = (summ + int(ord(c))) % 1000000 # to keep number in range\n",
    "    return summ\n",
    "\n",
    "words = []\n",
    "with open('words.txt') as f:\n",
    "    for line in f:\n",
    "        words.append([line, hash2(line), int(hash(line))])\n",
    "        \n",
    "def h(a, b, p, m, k):\n",
    "    return ((a*k + b)%p)%m\n",
    "\n",
    "cols = [[0,0], [0,0], [0,0], [0,0]]\n",
    "params = []\n",
    "m_vals = [1000, 10000, 100000, 1000000]\n",
    "i = 0\n",
    "for m in m_vals:\n",
    "    # Find a, b and p randomly\n",
    "    p = random.choice([j for j in prime_cache if m < j])\n",
    "    a = random.randint(1,p)\n",
    "    b = random.randint(0,p)\n",
    "    params.append([p, a, b, m])\n",
    "    bins = [0] * m\n",
    "    for k in words:\n",
    "        slot = h(a, b, p, m, k[1])\n",
    "        if bins[slot] != 0:\n",
    "            cols[i][0] += 1\n",
    "            bins[slot].append(k[1])\n",
    "        else:\n",
    "            bins[slot] = [k[1]]\n",
    "    bins = [0] * m\n",
    "    for k in words:\n",
    "        slot = h(a, b, p, m, k[2])\n",
    "        if bins[slot] != 0:\n",
    "            cols[i][1] += 1\n",
    "            bins[slot].append(k[2])\n",
    "        else:\n",
    "            bins[slot] = [k[2]]\n",
    "    i += 1\n",
    "print cols, params\n",
    "\n",
    "y_pos = np.arange(len(m_vals))\n",
    "\n",
    "plt.bar(y_pos, [row[1] for row in cols], align='center', alpha=0.5)\n",
    "plt.xticks(y_pos, m_vals)\n",
    "plt.ylabel('Collition')\n",
    "plt.title('Collition Numbers Depending on Hash Table Size(BuiltIn)')\n",
    " \n",
    "plt.show()\n",
    "\n",
    "plt.bar(y_pos, [row[0] for row in cols], align='center', alpha=0.5)\n",
    "plt.xticks(y_pos, m_vals)\n",
    "plt.ylabel('Collition')\n",
    "plt.title('Collition Numbers Depending on Hash Table Size(Naive)')\n",
    " \n",
    "plt.show()"
   ]
  },
  {
   "cell_type": "markdown",
   "metadata": {},
   "source": [
    "As we can see from results and plot, using a better mapping method like built-in hash function which has more unified distribution has less collutions.If we look at higher m values, we can see difference easily."
   ]
  },
  {
   "cell_type": "markdown",
   "metadata": {},
   "source": [
    "## Ex 3"
   ]
  },
  {
   "cell_type": "markdown",
   "metadata": {},
   "source": [
    "<b>Question</b> : Watch this presentation by Titus Brown (2011). Explain very briefly the concept of Bloom filters and why Titus and his colleagues use Bloom filters in this case?\n",
    "\n",
    "<b>Answer </b>:\n",
    "\n"
   ]
  },
  {
   "cell_type": "markdown",
   "metadata": {},
   "source": [
    "## Ex 4"
   ]
  },
  {
   "cell_type": "markdown",
   "metadata": {},
   "source": [
    "<b>Question</b> : Implement a simple edit distance calculation procedure (you can also use the spreadsheet if you want, especially for tracing of operations manually). Calculate edit distance between 'abracadabra' and 'abarcababbra'. Reconstruct the alignment or set of operations to get second sequence from the first.\n",
    "\n",
    "<b>Answer </b>:\n",
    "We will write our strings to the left side and to the top side of a matrix(like chess board) including N/A or Epsilon symbol at the begining of each string. We should initially fill first row and first column after strings with column index for row, row index for column.\n",
    "\n",
    "We should use the rule set we will define below to fill table row by row from top to the bottom. For each row we will traverse from left most cell to the right most cell.\n",
    "\n",
    "For any cell, we should fill the cell with;\n",
    "\n",
    "min(left-neighbour value + 1 or top-neighbour value + 1 or (If characters for each string is same, top-left-diagonal-neighbour value. If not top-left-diagonal-neighbour value + 1)\n",
    "\n",
    "<img src=\"q4.png\" width=500>\n",
    "\n",
    "As we can see, we can apply min 4 (edit, add or delete) operation to have same strings. It means our strings have 4 as difference."
   ]
  },
  {
   "cell_type": "markdown",
   "metadata": {},
   "source": [
    "## Ex 5"
   ]
  },
  {
   "cell_type": "markdown",
   "metadata": {},
   "source": [
    "<b>Question</b> : Demonstrate the knapsack problem on the following data (choosing the weight constraint as 6):\n",
    "\n",
    "Name Cost Weight\n",
    "O1 2 3\n",
    "O2 7 2\n",
    "O3 5 1\n",
    "O4 8 4\n",
    "Explain what is a knapsack problem. Solve it using the dynamic programming approach. Draw the table and explain how it is filled. Show how to get the selected elements. Make an example of a practical problem that can be solved with this approach.\n",
    "\n",
    "Hint: We did not talk about the knapsack problem in the lecture but there is a lot of material available for this problem (google knapsack problem).\n",
    "\n",
    "<b>Answer </b>:\n",
    "\n",
    "Knapsack problem is kind of an optimization algorithm using dynamic programming. If we used greedy approach, we should try to have biggest elements for each step. However, in dynamic programming we can solve problem from smaller parts to bigger parts, it gives us the advantage of optimal solutions.\n",
    "\n",
    "If we need to give a real life example for knapsack problem, please think about that you are leaving country, you can have what ever you want to your luggage but airline company has a limit. You need to pick some optimal solution for most valueable luggage combination.\n",
    "\n",
    "<img src=\"q5.png\" width=500>\n",
    "\n",
    "In knapsack table, we should traverse row by row from top to bottom, from left most cell to right most cell. \n",
    "\n",
    "We have three different case for each step:\n",
    "\n",
    "<b>Case 1 (Not enough capacity for current item):</b> \n",
    "We should check if our current capacity (smaller than all) is big enough to have item of current row (weight). If it is not we will keep copying top-neighbour values as cell value. For first row if we can not have enough capacity, we can not have any item so we will write zeros. \n",
    "\n",
    "<b>Case 2 (Same capacity):</b>\n",
    "After reaching a capacity to have our current item, we should check if our item has a bigger value than top-neighbour cell. We will use maximum. \n",
    "\n",
    "<b>Case 3 (More capacity):</b>\n",
    "After this point we will have extra space, so we can check if our item plus left space (go one row up and step left with the size of current item to find possible optimal item combination weight.) is bigger than top-neighbour cell. We will use maximum. \n",
    "\n",
    "<b>Post operation:</b>\n",
    "When we finish filling cells, we should start from right bottom corner and traverse over maximal options selecting optimal item combination. \n",
    "\n",
    "For our example, we can use q1,q2 and q3 to maximize our value. It will cost 6 but we will have 14 value."
   ]
  },
  {
   "cell_type": "markdown",
   "metadata": {},
   "source": [
    "# References"
   ]
  },
  {
   "cell_type": "markdown",
   "metadata": {},
   "source": [
    "[1] https://www.youtube.com/watch?v=b6AGUjqIPsA&t=435s<br>"
   ]
  }
 ],
 "metadata": {
  "kernelspec": {
   "display_name": "Python 2",
   "language": "python",
   "name": "python2"
  },
  "language_info": {
   "codemirror_mode": {
    "name": "ipython",
    "version": 2
   },
   "file_extension": ".py",
   "mimetype": "text/x-python",
   "name": "python",
   "nbconvert_exporter": "python",
   "pygments_lexer": "ipython2",
   "version": "2.7.13"
  }
 },
 "nbformat": 4,
 "nbformat_minor": 2
}
