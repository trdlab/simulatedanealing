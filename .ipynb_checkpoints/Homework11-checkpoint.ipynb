{
 "cells": [
  {
   "cell_type": "markdown",
   "metadata": {},
   "source": [
    "# Homework 11\n",
    "<h3>Advanced Algorithmics</h3>"
   ]
  },
  {
   "cell_type": "markdown",
   "metadata": {},
   "source": [
    "<h3>Student Info</h3>\n",
    "Başar Turgut<br>\n",
    "B79636"
   ]
  },
  {
   "cell_type": "markdown",
   "metadata": {},
   "source": [
    "## Ex 1"
   ]
  },
  {
   "cell_type": "markdown",
   "metadata": {},
   "source": [
    "<b>Question</b> : Convert it into adjacency matrix representation and then convert the matrix into the graph where the original edges are replaced by \"3-hop\" edges. Or - what is reachable in 3 steps of the original graph.\n",
    "\n"
   ]
  },
  {
   "cell_type": "markdown",
   "metadata": {},
   "source": [
    "<b>Answer </b>:\n",
    "\n",
    "We have used a helper class, found at one of stackoverflow answers. We have implemented adding 1 more link at a time function named \"hop\". This function briefly, trys to find outgoing or incoming edges for both nodes of iterated link of given matrix. I think it will not handle \"both incoming and outgoing edges\" because of lack of conditions but we will let it be like this for this exercise."
   ]
  },
  {
   "cell_type": "code",
   "execution_count": null,
   "metadata": {
    "collapsed": true
   },
   "outputs": [],
   "source": []
  },
  {
   "cell_type": "markdown",
   "metadata": {},
   "source": [
    "## Ex 4"
   ]
  },
  {
   "cell_type": "markdown",
   "metadata": {},
   "source": [
    "<b>Question</b> : Make a transitive closure of the same graph - using three approaches. 1) G*G*G...; 2) making use of the following property - G2 = G*G, G4 = G2*G2, G8 = G4*G4 and 3) with Warshall algorithm. Verify that you got the same answer.\n",
    "\n",
    "<b>Answer </b>:\n",
    "As we can see below. First implementation is slow but similar to warshall's result. We got exact same results. Second approach is dynamic programming approach using property. We try to use history values by checking if iterator is odd or even. Last one is warshall's algorithm. It is more space efficient and faster."
   ]
  },
  {
   "cell_type": "code",
   "execution_count": null,
   "metadata": {
    "collapsed": true
   },
   "outputs": [],
   "source": []
  },
  {
   "cell_type": "markdown",
   "metadata": {},
   "source": [
    "## Ex 5"
   ]
  },
  {
   "cell_type": "markdown",
   "metadata": {},
   "source": [
    "<b>Question</b> : Implement a \"random walk\" procedure following links randomly (equal probabilities). Estimate the probability of being in any given node by varying how you deal with \"dead ends\" (B) and \"nodes with no links into it\" (D). First, try \"re-appearing anywhere\" from dead ends only. Secondly, when walking, with 20% probability jump to any random vertex in the network, and 80% of times select randomly and go to one of the neighbouring vertices. For both scenarios, provide the respective probabilities and identify most important nodes.\n",
    "\n",
    "<b>Answer </b>:\n",
    "\n",
    "First implementation is random walk handling deadends with showing up at some random places. Ofcourse we need to detect it was a dead end.\n",
    "\n",
    "Second implementation is random walk but this time we have probability based random reappearing anytime scenario. We have probability based random appearing at random times using random integer generation. If it is random enough, we should have equal probabilities for each number. In this case, number bigger than 20 has a probability of %80.\n",
    "\n",
    "Second implementation resulted with better representing probabilities of nodes. These probabilities have similarities with our node incoming edge distribution."
   ]
  },
  {
   "cell_type": "code",
   "execution_count": null,
   "metadata": {
    "collapsed": true
   },
   "outputs": [],
   "source": []
  },
  {
   "cell_type": "markdown",
   "metadata": {},
   "source": [
    "## Ex 6(Bonus)"
   ]
  },
  {
   "cell_type": "markdown",
   "metadata": {},
   "source": [
    "<b>Question</b> : Run your algorithms on the 1000-city case. Report best solutions to the Piazza in a common thread, to initialise the competition. Report also the calculation time, obtained path length and the visualisation of the best solution. EX6 will be ongoing competition also beyond the current homework deadline. From the Piazza thread you will gain additional points. The ones who can beat past best solutions will get points (eve if someone will outcompete your solution next). Also, very good descriptions of the approach and convergence rates - may get credited with points upon TA discretion.\n",
    "<b>Answer </b>:\n",
    "\n",
    "First implementation is random walk handling deadends with showing up at some random places. Ofcourse we need to detect it was a dead end.\n",
    "\n",
    "Second implementation is random walk but this time we have probability based random reappearing anytime scenario. We have probability based random appearing at random times using random integer generation. If it is random enough, we should have equal probabilities for each number. In this case, number bigger than 20 has a probability of %80.\n",
    "\n",
    "Second implementation resulted with better representing probabilities of nodes. These probabilities have similarities with our node incoming edge distribution."
   ]
  },
  {
   "cell_type": "code",
   "execution_count": 1096,
   "metadata": {},
   "outputs": [
    {
     "name": "stdout",
     "output_type": "stream",
     "text": [
      "{0: {0: 0.0, 1: 816.2824266147104, 2: 747.73591594893981, 3: 660.92813527644591, 4: 85.14693182963201, 5: 126.31706139710502, 6: 668.3300083042808, 7: 794.6986850372914, 8: 453.322181235377, 9: 424.69753943247656, 10: 712.9039205951949, 11: 891.89797622822311, 12: 329.70592957967864, 13: 465.31064892177142, 14: 390.44846010709273, 15: 452.71182887130306, 16: 221.37976420621646, 17: 128.01562404644207, 18: 233.10512649875378, 19: 182.36227680087788}, 1: {0: 816.2824266147104, 1: 0.0, 2: 589.61173665387628, 3: 500.64458451080844, 4: 778.27565810578972, 5: 865.74880883544972, 6: 419.06801357297599, 7: 42.201895692018383, 8: 399.22424776057881, 9: 739.21918265153261, 10: 413.53234456327596, 11: 102.82509421342633, 12: 620.79062492921071, 13: 893.5463054593198, 14: 588.4802460575886, 15: 704.71625495656053, 16: 688.12208219181571, 17: 818.74599235660389, 18: 813.67376755060752, 19: 644.01940964539256}, 2: {0: 747.73591594893981, 1: 589.61173665387628, 2: 0.0, 3: 115.52056094046635, 4: 666.65808327807747, 5: 862.24184542389264, 6: 862.45463648820396, 7: 611.65758394709701, 8: 650.29993080116503, 9: 379.30067229046671, 10: 884.06843626497607, 11: 688.71256704085192, 12: 418.04425603038732, 13: 1095.7248742271026, 14: 820.21765404068208, 15: 334.25289826716539, 16: 527.11478825773804, 17: 836.75862708429838, 18: 579.21066979122543, 19: 678.2042465216507}, 3: {0: 660.92813527644591, 1: 500.64458451080844, 2: 115.52056094046635, 3: 0.0, 4: 583.48264755689183, 5: 769.7804881912765, 6: 749.0106808317222, 7: 517.92277416618788, 8: 534.81305144882174, 9: 339.01327407639957, 10: 771.79401397004892, 11: 602.42509907871533, 12: 334.59228921181074, 13: 986.94275416561015, 14: 706.70220036448166, 15: 293.08360581922693, 16: 444.77522413012173, 17: 740.84951238426288, 18: 516.76687200322738, 19: 575.25820289675141}, 4: {0: 85.14693182963201, 1: 778.27565810578972, 2: 666.65808327807747, 3: 583.48264755689183, 4: 0.0, 5: 210.66086489901249, 6: 676.03624163205927, 7: 760.34202830042216, 8: 441.26749257111612, 9: 339.75579465257101, 10: 719.75690340558731, 11: 860.03255752326027, 12: 249.61570463414355, 13: 536.8388957592399, 14: 417.85164831552356, 15: 367.58944489742902, 16: 139.61733416735902, 17: 204.94389476146881, 18: 156.11534197509224, 19: 184.11409506064439}, 5: {0: 126.31706139710502, 1: 865.74880883544972, 2: 862.24184542389264, 3: 769.7804881912765, 4: 210.66086489901249, 5: 0.0, 6: 654.39514056875453, 7: 839.26277172289724, 8: 477.59501672442104, 9: 550.36351623268058, 10: 698.99642345293876, 11: 931.28405977982891, 12: 445.70169396133105, 13: 355.37304343464206, 14: 360.06943774777665, 15: 577.06845347844137, 16: 341.26382755867928, 17: 49.477267507411923, 18: 358.1312608527773, 19: 225.61028345356956}, 6: {0: 668.3300083042808, 1: 419.06801357297599, 2: 862.45463648820396, 3: 749.0106808317222, 4: 676.03624163205927, 5: 654.39514056875453, 6: 0.0, 7: 376.94164004524629, 8: 259.00193049473592, 9: 823.2429774981382, 10: 44.77722635447622, 11: 414.22336969321276, 12: 660.99394853508306, 13: 536.15389581723639, 14: 295.77863344061888, 15: 809.35591676344711, 16: 661.91993473531227, 17: 605.75325009445885, 18: 785.72068828560191, 19: 493.20685315595523}, 7: {0: 794.6986850372914, 1: 42.201895692018383, 2: 611.65758394709701, 3: 517.92277416618788, 4: 760.34202830042216, 5: 839.26277172289724, 6: 376.94164004524629, 7: 0.0, 8: 367.92526415020757, 9: 739.79591780436317, 10: 371.38928363645607, 11: 101.9803902718557, 12: 614.46887634769587, 13: 856.08644423329122, 14: 552.94122653316424, 15: 707.1421356417676, 16: 676.12498844518382, 17: 791.68806988611368, 18: 803.35546304235709, 19: 619.67894913414636}, 8: {0: 453.322181235377, 1: 399.22424776057881, 2: 650.29993080116503, 3: 534.81305144882174, 4: 441.26749257111612, 5: 477.59501672442104, 6: 259.00193049473592, 7: 367.92526415020757, 8: 0.0, 9: 565.08848864580489, 10: 297.65920110085625, 11: 455.28123176779428, 12: 402.16538886383546, 13: 513.20658608400572, 14: 202.56603861457131, 15: 553.13018359153034, 16: 406.96437190496175, 17: 428.85078990250213, 18: 533.90354934201366, 19: 271.02951868754076}, 9: {0: 424.69753943247656, 1: 739.21918265153261, 2: 379.30067229046671, 3: 339.01327407639957, 4: 339.75579465257101, 5: 550.36351623268058, 6: 823.2429774981382, 7: 739.79591780436317, 8: 565.08848864580489, 9: 0.0, 10: 859.62317325674746, 11: 839.41050743959602, 12: 164.7118696390761, 13: 855.5197250794397, 14: 653.49062732375899, 15: 46.173585522460783, 16: 221.19900542271884, 17: 540.1962606312635, 18: 212.51352898109803, 19: 436.02752206712825}, 10: {0: 712.9039205951949, 1: 413.53234456327596, 2: 884.06843626497607, 3: 771.79401397004892, 4: 719.75690340558731, 5: 698.99642345293876, 6: 44.77722635447622, 7: 371.38928363645607, 8: 297.65920110085625, 9: 859.62317325674746, 10: 0.0, 11: 397.88691860879266, 12: 698.41678101259856, 13: 572.05069705402855, 14: 340.02646955788606, 15: 844.3151070542325, 16: 702.82074528289218, 17: 650.40602703234538, 18: 827.51314188960168, 19: 537.2671588697749}, 11: {0: 891.89797622822311, 1: 102.82509421342633, 2: 688.71256704085192, 3: 602.42509907871533, 4: 860.03255752326027, 5: 931.28405977982891, 6: 414.22336969321276, 7: 101.9803902718557, 8: 455.28123176779428, 9: 839.41050743959602, 10: 397.88691860879266, 11: 0.0, 12: 716.22622124577367, 13: 923.45655014191107, 14: 628.71297107662735, 15: 805.76051032549367, 16: 777.88495293327276, 17: 883.06851376323004, 18: 905.28448567287398, 19: 714.73771413015561}, 12: {0: 329.70592957967864, 1: 620.79062492921071, 2: 418.04425603038732, 3: 334.59228921181074, 4: 249.61570463414355, 5: 445.70169396133105, 6: 660.99394853508306, 7: 614.46887634769587, 8: 402.16538886383546, 9: 164.7118696390761, 10: 698.41678101259856, 11: 716.22622124577367, 12: 0.0, 13: 714.78668146517668, 14: 492.19914668759839, 15: 163.02760502442524, 16: 110.27692415006868, 17: 423.81363828928392, 18: 202.80039447693389, 19: 287.83675929248511}, 13: {0: 465.31064892177142, 1: 893.5463054593198, 2: 1095.7248742271026, 3: 986.94275416561015, 4: 536.8388957592399, 5: 355.37304343464206, 6: 536.15389581723639, 7: 856.08644423329122, 8: 513.20658608400572, 9: 855.5197250794397, 10: 572.05069705402855, 11: 923.45655014191107, 12: 714.78668146517668, 13: 0.0, 14: 310.85044635644323, 15: 871.00516645999289, 16: 634.32877910433797, 17: 337.53518335130633, 18: 692.93578346048776, 19: 427.32891313366571}, 14: {0: 390.44846010709273, 1: 588.4802460575886, 2: 820.21765404068208, 3: 706.70220036448166, 4: 417.85164831552356, 5: 360.06943774777665, 6: 295.77863344061888, 7: 552.94122653316424, 8: 202.56603861457131, 9: 653.49062732375899, 10: 340.02646955788606, 11: 628.71297107662735, 12: 492.19914668759839, 13: 310.85044635644323, 14: 0.0, 15: 655.09235990049524, 16: 449.41851319232501, 17: 312.19545160043572, 18: 553.85557684291666, 19: 238.51624682608102}, 15: {0: 452.71182887130306, 1: 704.71625495656053, 2: 334.25289826716539, 3: 293.08360581922693, 4: 367.58944489742902, 5: 577.06845347844137, 6: 809.35591676344711, 7: 707.1421356417676, 8: 553.13018359153034, 9: 46.173585522460783, 10: 844.3151070542325, 11: 805.76051032549367, 12: 163.02760502442524, 13: 871.00516645999289, 14: 655.09235990049524, 15: 0.0, 16: 239.92707225321615, 17: 563.56011214421483, 18: 251.09759058979438, 19: 446.75272802748503}, 16: {0: 221.37976420621646, 1: 688.12208219181571, 2: 527.11478825773804, 3: 444.77522413012173, 4: 139.61733416735902, 5: 341.26382755867928, 6: 661.91993473531227, 7: 676.12498844518382, 8: 406.96437190496175, 9: 221.19900542271884, 10: 702.82074528289218, 11: 777.88495293327276, 12: 110.27692415006868, 13: 634.32877910433797, 14: 449.41851319232501, 15: 239.92707225321615, 16: 0.0, 17: 324.35320254315354, 18: 130.09611831257686, 19: 219.22819161777528}, 17: {0: 128.01562404644207, 1: 818.74599235660389, 2: 836.75862708429838, 3: 740.84951238426288, 4: 204.94389476146881, 5: 49.477267507411923, 6: 605.75325009445885, 7: 791.68806988611368, 8: 428.85078990250213, 9: 540.1962606312635, 10: 650.40602703234538, 11: 883.06851376323004, 12: 423.81363828928392, 13: 337.53518335130633, 14: 312.19545160043572, 15: 563.56011214421483, 16: 324.35320254315354, 17: 0.0, 18: 359.23529893372114, 19: 182.8332573685652}, 18: {0: 233.10512649875378, 1: 813.67376755060752, 2: 579.21066979122543, 3: 516.76687200322738, 4: 156.11534197509224, 5: 358.1312608527773, 6: 785.72068828560191, 7: 803.35546304235709, 8: 533.90354934201366, 9: 212.51352898109803, 10: 827.51314188960168, 11: 905.28448567287398, 12: 202.80039447693389, 13: 692.93578346048776, 14: 553.85557684291666, 15: 251.09759058979438, 16: 130.09611831257686, 17: 359.23529893372114, 18: 0.0, 19: 315.49643421122846}, 19: {0: 182.36227680087788, 1: 644.01940964539256, 2: 678.2042465216507, 3: 575.25820289675141, 4: 184.11409506064439, 5: 225.61028345356956, 6: 493.20685315595523, 7: 619.67894913414636, 8: 271.02951868754076, 9: 436.02752206712825, 10: 537.2671588697749, 11: 714.73771413015561, 12: 287.83675929248511, 13: 427.32891313366571, 14: 238.51624682608102, 15: 446.75272802748503, 16: 219.22819161777528, 17: 182.8332573685652, 18: 315.49643421122846, 19: 0.0}}\n"
     ]
    },
    {
     "ename": "AssertionError",
     "evalue": "",
     "output_type": "error",
     "traceback": [
      "\u001b[1;31m---------------------------------------------------------------------------\u001b[0m",
      "\u001b[1;31mAssertionError\u001b[0m                            Traceback (most recent call last)",
      "\u001b[1;32m<ipython-input-1096-b4da14bbb935>\u001b[0m in \u001b[0;36m<module>\u001b[1;34m()\u001b[0m\n\u001b[0;32m     35\u001b[0m \u001b[1;33m\u001b[0m\u001b[0m\n\u001b[0;32m     36\u001b[0m \u001b[0mprint\u001b[0m\u001b[1;33m(\u001b[0m\u001b[0mcalcComplGraph\u001b[0m\u001b[1;33m(\u001b[0m\u001b[0mcoords\u001b[0m\u001b[1;33m)\u001b[0m\u001b[1;33m)\u001b[0m\u001b[1;33m;\u001b[0m\u001b[1;33m\u001b[0m\u001b[0m\n\u001b[1;32m---> 37\u001b[1;33m \u001b[1;32massert\u001b[0m \u001b[1;32mFalse\u001b[0m\u001b[1;33m\u001b[0m\u001b[0m\n\u001b[0m\u001b[0;32m     38\u001b[0m \u001b[1;33m\u001b[0m\u001b[0m\n\u001b[0;32m     39\u001b[0m \u001b[1;31m# Nearest Neighbour Route\u001b[0m\u001b[1;33m\u001b[0m\u001b[1;33m\u001b[0m\u001b[0m\n",
      "\u001b[1;31mAssertionError\u001b[0m: "
     ]
    }
   ],
   "source": [
    "coords = []\n",
    "import csv \n",
    "import sys\n",
    "import numpy\n",
    "import math\n",
    "import random\n",
    "import functools\n",
    "\n",
    "# Read from file\n",
    "f = open('2017/2017/TSP_20.txt', 'r')\n",
    "reader = csv.reader(f)\n",
    "# Read row by row\n",
    "for row in reader:\n",
    "    # Add coordinates to coords list\n",
    "    coords.append([int(item) for item in row])\n",
    "\n",
    "# Close File\n",
    "f.close()\n",
    "\n",
    "# Distance Function\n",
    "def dist(a,b):\n",
    "    return numpy.linalg.norm(numpy.array(a)-numpy.array(b))\n",
    "\n",
    "# Generate Graph From Nodes using Eclidan Distace\n",
    "def calcComplGraph(coords):\n",
    "    # Graph Dictionary\n",
    "    graph = {}\n",
    "    # For Every Node, We are adding distances to other nodes\n",
    "    for s in range(len(coords)):\n",
    "        graph[s] = {}\n",
    "        # Calculate Distance and add to our list\n",
    "        for d in range(len(coords)):\n",
    "            graph[s][d] = dist(coords[s],coords[d])\n",
    "    return graph\n",
    "\n",
    "# Nearest Neighbour Route\n",
    "def TSP_NNR(coords):\n",
    "    # Number of Nodes\n",
    "    N = len(coords)\n",
    "    # Calculate Graph and store in graph dict\n",
    "    graph = calcComplGraph(coords)\n",
    "    # Nodes list ie. [0,1,2,3,4,5,6,7,8,9]\n",
    "    nodes = list(range(N))\n",
    "    # Next pointer\n",
    "    next = 0\n",
    "    # Route list, it will be filled up at the end in order of path\n",
    "    route = []\n",
    "    # Infinite Loop\n",
    "    while True:\n",
    "        current = next\n",
    "        # Create Distance Array for your current node ie. [0, 10, 12, 13] A->A, A->B, A->C, A->D\n",
    "        distances = dict(zip(nodes, list(graph[current].values())))\n",
    "        # Check every neighbour if it is already visited or node itself.\n",
    "        # Keep only unvisited nodes as candidates\n",
    "        cands = dict([(k, v) for k,v in distances.items() if k not in route and v > 0])\n",
    "        # Add your current node to route list\n",
    "        route.append(current)\n",
    "        # If our candidates are empty. It means you have visited every node\n",
    "        if not bool(cands):\n",
    "            break;\n",
    "        # Take smallest distance node, nearest node\n",
    "        nind = numpy.argmin(numpy.array(list(cands.values())))\n",
    "        # Change our current to this nearest node\n",
    "        next = list(cands.keys())[nind]\n",
    "        # Start again to the loop\n",
    "    return route, fitness(route, N, graph), graph\n",
    "# Run function\n",
    "initial = TSP_NNR(coords)\n",
    "# Print calculated total distance\n",
    "print(initial[1])"
   ]
  },
  {
   "cell_type": "code",
   "execution_count": null,
   "metadata": {
    "collapsed": true
   },
   "outputs": [],
   "source": [
    "def fitness(sol, N, distances):\n",
    "    return sum( [distances[sol[i-1]][sol[i]] for i in range(1,N-1)] )\n",
    "\n",
    "\n",
    "def TSP_sanuel(coords, distances, cur_solution, alpha=0.9, t_criteria = 0.1, i_criteria = 10000 ):\n",
    "    cur_solution = cur_solution[:]\n",
    "    best_solution = cur_solution\n",
    "    N = len(coords)\n",
    "    current_fitness = None\n",
    "    current_fitness = fitness(cur_solution, N, distances)\n",
    "    initial = current_fitness\n",
    "    best_fitness = current_fitness\n",
    "    temp = math.sqrt(N)\n",
    "    itr = 1\n",
    "    while temp >= t_criteria and itr < i_criteria:\n",
    "        can = cur_solution\n",
    "        l = random.randint(2, N-1)\n",
    "        i = random.randint(0, l)\n",
    "        can_cl = can[:]\n",
    "        can_cl[i:(i+l)] = reversed(can_cl[i:(i+l)])\n",
    "        candidate_fitness = fitness(can_cl, N, distances)\n",
    "        if candidate_fitness < current_fitness:\n",
    "            cur_solution = can_cl\n",
    "            current_fitness = candidate_fitness\n",
    "            \n",
    "            if candidate_fitness < best_fitness:\n",
    "                print(best_fitness)\n",
    "                best_fitness = candidate_fitness\n",
    "                best_solution = can_cl\n",
    "        else:\n",
    "            if random.random() < math.exp(-abs(candidate_fitness-current_fitness) / temp):\n",
    "                cur_solution = can\n",
    "                current_fitness = candidate_fitness\n",
    "                \n",
    "        temp *= alpha\n",
    "        itr += 1\n",
    "    return best_solution, best_fitness\n",
    "\n",
    "def swogger(route):\n",
    "    res = \"\"\n",
    "    for i in range(len(route)):\n",
    "        res += \"line (p\" + str(route[i-1]+1) + \") (p\" + str(route[i]+1) + \")\\n\"\n",
    "    return res\n"
   ]
  },
  {
   "cell_type": "code",
   "execution_count": 1092,
   "metadata": {},
   "outputs": [
    {
     "name": "stdout",
     "output_type": "stream",
     "text": [
      "2894.32676769\n",
      "2893.09732225\n",
      "2813.42937733\n",
      "2773.47098683\n",
      "2697.17345603\n",
      "2512.00632718\n",
      "2352.254237\n",
      "line (p3) (p2)\n",
      "line (p2) (p1)\n",
      "line (p1) (p6)\n",
      "line (p6) (p7)\n",
      "line (p7) (p9)\n",
      "line (p9) (p5)\n",
      "line (p5) (p8)\n",
      "line (p8) (p4)\n",
      "line (p4) (p10)\n",
      "line (p10) (p3)\n",
      "\n"
     ]
    }
   ],
   "source": [
    "optimized = TSP_sanuel(coords, initial[2], initial[0], alpha=0.993, t_criteria = 0.0001, i_criteria = 1000000)\n",
    "print(optimized[1])\n",
    "print(swogger(optimized[0]))"
   ]
  },
  {
   "cell_type": "markdown",
   "metadata": {},
   "source": [
    "# References"
   ]
  },
  {
   "cell_type": "markdown",
   "metadata": {},
   "source": [
    "[1] http://www.ics.uci.edu/~irani/w15-6B/BoardNotes/MatrixMultiplication.pdf<br>"
   ]
  }
 ],
 "metadata": {
  "kernelspec": {
   "display_name": "Python 3",
   "language": "python",
   "name": "python3"
  },
  "language_info": {
   "codemirror_mode": {
    "name": "ipython",
    "version": 3
   },
   "file_extension": ".py",
   "mimetype": "text/x-python",
   "name": "python",
   "nbconvert_exporter": "python",
   "pygments_lexer": "ipython3",
   "version": "3.6.3"
  }
 },
 "nbformat": 4,
 "nbformat_minor": 2
}
