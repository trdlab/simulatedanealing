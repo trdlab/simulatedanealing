{
 "cells": [
  {
   "cell_type": "markdown",
   "metadata": {},
   "source": [
    "# Homework"
   ]
  },
  {
   "cell_type": "markdown",
   "metadata": {},
   "source": [
    "<h3>Student Info</h3>\n",
    "Başar Turgut"
   ]
  },
  {
   "cell_type": "markdown",
   "metadata": {},
   "source": [
    "## Ex 1"
   ]
  },
  {
   "cell_type": "markdown",
   "metadata": {},
   "source": [
    "I will try to solve problem defined. Problem solution and report need to have clear and brief explanations. After solving problem and stating the approach used, i need to write results of my approach. There should be always charts, plots etc. to visualise my solution and compare with different approaches. Plot should be descriptive and will have explanation as well.<br>\n",
    "\n",
    "<b>\"I understand and will follow the submission rules.\"</b><br>\n",
    "<b>\"I will not plagiarize.\"</b>"
   ]
  },
  {
   "cell_type": "markdown",
   "metadata": {},
   "source": [
    "## Ex 2"
   ]
  },
  {
   "cell_type": "markdown",
   "metadata": {},
   "source": [
    "Because of elegance of Jupyter, my own curiosity and mostly needs in other projects; i have picked python programming language to solve the problem and do asked implementations.<br>\n",
    "First of all, we need to import needed libraries to our code."
   ]
  },
  {
   "cell_type": "code",
   "execution_count": 5,
   "metadata": {
    "collapsed": true
   },
   "outputs": [],
   "source": [
    "# Code for imports\n",
    "import numpy"
   ]
  },
  {
   "cell_type": "markdown",
   "metadata": {},
   "source": [
    "We can now need to generate a set of randomly picked N integers. So, implementation of random integer generation is been showed below."
   ]
  },
  {
   "cell_type": "code",
   "execution_count": 6,
   "metadata": {
    "collapsed": true
   },
   "outputs": [],
   "source": [
    "# Code for random integer set"
   ]
  },
  {
   "cell_type": "markdown",
   "metadata": {},
   "source": [
    "I have used the pseudo code implementation of method that described in wikipedia."
   ]
  },
  {
   "cell_type": "markdown",
   "metadata": {},
   "source": [
    "After all, we have our data. So, we need to implement one of sort algorithms. I personally prefer <b>Counting Sort</b>. Because, i personally like the idea behind algorthm and mostly like to learn and exercise new implementations. The implementation of the algorithm is having been shown below."
   ]
  },
  {
   "cell_type": "code",
   "execution_count": 7,
   "metadata": {
    "collapsed": true
   },
   "outputs": [],
   "source": [
    "# Code for counting sort"
   ]
  },
  {
   "cell_type": "markdown",
   "metadata": {},
   "source": [
    "Experiment Setup comments etc."
   ]
  },
  {
   "cell_type": "code",
   "execution_count": 8,
   "metadata": {
    "collapsed": true
   },
   "outputs": [],
   "source": [
    "# Code for experiment"
   ]
  },
  {
   "cell_type": "markdown",
   "metadata": {},
   "source": [
    "Results as table, plot etc."
   ]
  },
  {
   "cell_type": "markdown",
   "metadata": {},
   "source": [
    "// Conculition part to comment about results and plots.<br>\n",
    "\n",
    "Repeat measurements many times (100+) to study how much the sorting times vary (think and explain if you should use the same random integers every time or generate new ones) Increase the array size (N) by several orders of magnitude multiple times and plot the measured sorting times so that you can visually explore the timings. As a result you should have a plot describing how the sorting time increases when N gets larger. Your answer has to include comments about the experiment setup (what sizes of N did you choose and why, what is the maximum integer in your language, what sorting algorithm you used, how many repetition, etc) and discussion over the results (this will not be stressed explicitly in other tasks, but is expected of you in every answer)."
   ]
  },
  {
   "cell_type": "markdown",
   "metadata": {},
   "source": [
    "## Ex 3"
   ]
  },
  {
   "cell_type": "markdown",
   "metadata": {},
   "source": [
    "Now measure the language-specific built-in sorting algorithm. Briefly describe the algorithm and state it’s complexity. Plot the execution times as in EX2, if possible, on the same plot to make comparison easier. Try to also overlay some function f(x) that would approximate the built-in sort timings well. What f(x) did you choose and how?"
   ]
  },
  {
   "cell_type": "markdown",
   "metadata": {},
   "source": [
    "## Ex 4"
   ]
  },
  {
   "cell_type": "markdown",
   "metadata": {},
   "source": [
    "Measure how many integers (N) can you roughly sort in 1 minute with both your sort from EX2 and built-in sort from EX3. Predict what would be the sorting times for both algorithms if you increase N 100 times. Do it by extrapolating from the measurements on smaller input sizes and considering the theoretical complexity of the algorithms (or the approximation function, if you don’t know them). Turn the resulting numbers to understandable units (1 day instead of 86400 seconds, etc)."
   ]
  },
  {
   "cell_type": "markdown",
   "metadata": {},
   "source": [
    "## Ex 5"
   ]
  },
  {
   "cell_type": "markdown",
   "metadata": {},
   "source": [
    "f(n) = 4n3 + 0.5n and g(n) = n3. Prove that f(n) = Theta(g(n)) by finding suitable c1, c2 and n0. Plot the function f, and also c1 g and c2 g."
   ]
  },
  {
   "cell_type": "markdown",
   "metadata": {},
   "source": [
    "## Ex 6"
   ]
  },
  {
   "cell_type": "markdown",
   "metadata": {},
   "source": [
    "(Bonus 1p) How do you calculate all possible permutations? E.g. create all ways to go through n cities (e.g. in the traveling salesman problem). Or make an inefficient randomised sorting algorithm that permutes the input and tests if it is sorted ... repeating until one of random permutations is. For how large N it is already infeasible to test all permutations on your laptop? How to create one random permutation of N values (i.e. how to scramble fully the ordered input)?"
   ]
  },
  {
   "cell_type": "markdown",
   "metadata": {},
   "source": [
    "# References"
   ]
  },
  {
   "cell_type": "markdown",
   "metadata": {},
   "source": [
    "https://betterexplained.com/articles/sorting-algorithms/#Heapsort_BestAvgWorst_ON_lg_N<br>\n",
    "https://en.wikipedia.org/wiki/Counting_sort#The_algorithm"
   ]
  }
 ],
 "metadata": {
  "kernelspec": {
   "display_name": "Python 2",
   "language": "python",
   "name": "python2"
  },
  "language_info": {
   "codemirror_mode": {
    "name": "ipython",
    "version": 2
   },
   "file_extension": ".py",
   "mimetype": "text/x-python",
   "name": "python",
   "nbconvert_exporter": "python",
   "pygments_lexer": "ipython2",
   "version": "2.7.13"
  }
 },
 "nbformat": 4,
 "nbformat_minor": 2
}
